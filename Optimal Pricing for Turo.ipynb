{
 "cells": [
  {
   "cell_type": "markdown",
   "metadata": {},
   "source": [
    "# Optimal Pricing for Turo"
   ]
  },
  {
   "cell_type": "markdown",
   "metadata": {},
   "source": [
    "The largest car-sharing firm based in the United States, Turo, enables private car owners to rent out their cars via an online platform in over 56 countries. After analyzing competitive advantages and disadvantages of Turo’s website, we suggested adding a new category feature “Browse by category” to its website that filters out car listings in addition to “Browse by make” and “Browse by destination”. Through cluster analysis, we created the following three vehicle categories: Spacious, Luxury and Economy. Moreover, we established a pricing system that helps car hosts to set the optimal prices that maximize their revenue with log-log regression."
   ]
  },
  {
   "cell_type": "code",
   "execution_count": 1,
   "metadata": {
    "id": "LdAYTx-FfhQc"
   },
   "outputs": [],
   "source": [
    "# Import libraries\n",
    "import matplotlib.pyplot as plt\n",
    "import seaborn as sns; sns.set()  # for plot styling\n",
    "import numpy as np\n",
    "import pandas as pd "
   ]
  },
  {
   "cell_type": "code",
   "execution_count": 2,
   "metadata": {
    "id": "FX5HfhJPfhQK"
   },
   "outputs": [],
   "source": [
    "# Import data into pandas dataframe\n",
    "Turo = pd.read_csv('car rental turo data.csv')\n",
    "level =  pd.read_csv('Brand Level.csv')"
   ]
  },
  {
   "cell_type": "markdown",
   "metadata": {
    "id": "k3ffkniHfhQk"
   },
   "source": [
    "# Data Cleaning"
   ]
  },
  {
   "cell_type": "markdown",
   "metadata": {
    "id": "N8oljTdiFG_F"
   },
   "source": [
    "### Take a brief look at the data"
   ]
  },
  {
   "cell_type": "code",
   "execution_count": 3,
   "metadata": {
    "colab": {
     "base_uri": "https://localhost:8080/",
     "height": 316
    },
    "id": "8qWiqGWCfhQr",
    "outputId": "a014e072-b7c9-4f99-f7cc-c9881a764da2"
   },
   "outputs": [
    {
     "data": {
      "text/html": [
       "<div>\n",
       "<style scoped>\n",
       "    .dataframe tbody tr th:only-of-type {\n",
       "        vertical-align: middle;\n",
       "    }\n",
       "\n",
       "    .dataframe tbody tr th {\n",
       "        vertical-align: top;\n",
       "    }\n",
       "\n",
       "    .dataframe thead th {\n",
       "        text-align: right;\n",
       "    }\n",
       "</style>\n",
       "<table border=\"1\" class=\"dataframe\">\n",
       "  <thead>\n",
       "    <tr style=\"text-align: right;\">\n",
       "      <th></th>\n",
       "      <th>rating</th>\n",
       "      <th>renterTripsTaken</th>\n",
       "      <th>reviewCount</th>\n",
       "      <th>responseRate</th>\n",
       "      <th>newListing</th>\n",
       "      <th>freeDeliveryPromotion</th>\n",
       "      <th>instantBookDisplayed</th>\n",
       "      <th>deliveryLabel</th>\n",
       "      <th>averageDailyPrice</th>\n",
       "      <th>scalar</th>\n",
       "      <th>...</th>\n",
       "      <th>state</th>\n",
       "      <th>model</th>\n",
       "      <th>make</th>\n",
       "      <th>id</th>\n",
       "      <th>listingCreatedTime</th>\n",
       "      <th>year</th>\n",
       "      <th>type</th>\n",
       "      <th>automaticTransmission</th>\n",
       "      <th>listingyear</th>\n",
       "      <th>population</th>\n",
       "    </tr>\n",
       "  </thead>\n",
       "  <tbody>\n",
       "    <tr>\n",
       "      <th>0</th>\n",
       "      <td>NaN</td>\n",
       "      <td>0</td>\n",
       "      <td>0</td>\n",
       "      <td>0.0</td>\n",
       "      <td>False</td>\n",
       "      <td>False</td>\n",
       "      <td>False</td>\n",
       "      <td>NaN</td>\n",
       "      <td>29</td>\n",
       "      <td>11</td>\n",
       "      <td>...</td>\n",
       "      <td>Iowa</td>\n",
       "      <td>Fusion</td>\n",
       "      <td>Ford</td>\n",
       "      <td>58905</td>\n",
       "      <td>7/28/2014 21:43</td>\n",
       "      <td>2014</td>\n",
       "      <td>car</td>\n",
       "      <td>True</td>\n",
       "      <td>2014</td>\n",
       "      <td>3109350</td>\n",
       "    </tr>\n",
       "    <tr>\n",
       "      <th>1</th>\n",
       "      <td>5.00</td>\n",
       "      <td>1</td>\n",
       "      <td>1</td>\n",
       "      <td>100.0</td>\n",
       "      <td>False</td>\n",
       "      <td>False</td>\n",
       "      <td>True</td>\n",
       "      <td>NaN</td>\n",
       "      <td>162</td>\n",
       "      <td>8</td>\n",
       "      <td>...</td>\n",
       "      <td>Minnesota</td>\n",
       "      <td>718 Boxster</td>\n",
       "      <td>Porsche</td>\n",
       "      <td>403202</td>\n",
       "      <td>4/7/2018 21:48</td>\n",
       "      <td>2017</td>\n",
       "      <td>car</td>\n",
       "      <td>True</td>\n",
       "      <td>2018</td>\n",
       "      <td>5606249</td>\n",
       "    </tr>\n",
       "    <tr>\n",
       "      <th>2</th>\n",
       "      <td>NaN</td>\n",
       "      <td>0</td>\n",
       "      <td>0</td>\n",
       "      <td>NaN</td>\n",
       "      <td>False</td>\n",
       "      <td>False</td>\n",
       "      <td>True</td>\n",
       "      <td>NaN</td>\n",
       "      <td>40</td>\n",
       "      <td>5</td>\n",
       "      <td>...</td>\n",
       "      <td>West Virginia</td>\n",
       "      <td>Cruze</td>\n",
       "      <td>Chevrolet</td>\n",
       "      <td>320436</td>\n",
       "      <td>9/14/2017 2:27</td>\n",
       "      <td>2014</td>\n",
       "      <td>car</td>\n",
       "      <td>True</td>\n",
       "      <td>2017</td>\n",
       "      <td>1817004</td>\n",
       "    </tr>\n",
       "    <tr>\n",
       "      <th>3</th>\n",
       "      <td>3.75</td>\n",
       "      <td>4</td>\n",
       "      <td>5</td>\n",
       "      <td>100.0</td>\n",
       "      <td>False</td>\n",
       "      <td>False</td>\n",
       "      <td>True</td>\n",
       "      <td>NaN</td>\n",
       "      <td>99</td>\n",
       "      <td>19</td>\n",
       "      <td>...</td>\n",
       "      <td>Pennsylvania</td>\n",
       "      <td>6 Series</td>\n",
       "      <td>BMW</td>\n",
       "      <td>350460</td>\n",
       "      <td>11/30/2017 5:03</td>\n",
       "      <td>2006</td>\n",
       "      <td>car</td>\n",
       "      <td>True</td>\n",
       "      <td>2017</td>\n",
       "      <td>12787641</td>\n",
       "    </tr>\n",
       "    <tr>\n",
       "      <th>4</th>\n",
       "      <td>NaN</td>\n",
       "      <td>0</td>\n",
       "      <td>0</td>\n",
       "      <td>NaN</td>\n",
       "      <td>False</td>\n",
       "      <td>False</td>\n",
       "      <td>False</td>\n",
       "      <td>NaN</td>\n",
       "      <td>81</td>\n",
       "      <td>17</td>\n",
       "      <td>...</td>\n",
       "      <td>Pennsylvania</td>\n",
       "      <td>Explorer</td>\n",
       "      <td>Ford</td>\n",
       "      <td>429146</td>\n",
       "      <td>5/24/2018 14:07</td>\n",
       "      <td>2017</td>\n",
       "      <td>suv</td>\n",
       "      <td>True</td>\n",
       "      <td>2018</td>\n",
       "      <td>12800922</td>\n",
       "    </tr>\n",
       "  </tbody>\n",
       "</table>\n",
       "<p>5 rows × 23 columns</p>\n",
       "</div>"
      ],
      "text/plain": [
       "   rating  renterTripsTaken  reviewCount  responseRate  newListing  \\\n",
       "0     NaN                 0            0           0.0       False   \n",
       "1    5.00                 1            1         100.0       False   \n",
       "2     NaN                 0            0           NaN       False   \n",
       "3    3.75                 4            5         100.0       False   \n",
       "4     NaN                 0            0           NaN       False   \n",
       "\n",
       "   freeDeliveryPromotion  instantBookDisplayed deliveryLabel  \\\n",
       "0                  False                 False           NaN   \n",
       "1                  False                  True           NaN   \n",
       "2                  False                  True           NaN   \n",
       "3                  False                  True           NaN   \n",
       "4                  False                 False           NaN   \n",
       "\n",
       "   averageDailyPrice  scalar  ...          state        model       make  \\\n",
       "0                 29      11  ...           Iowa       Fusion       Ford   \n",
       "1                162       8  ...      Minnesota  718 Boxster    Porsche   \n",
       "2                 40       5  ...  West Virginia        Cruze  Chevrolet   \n",
       "3                 99      19  ...   Pennsylvania     6 Series        BMW   \n",
       "4                 81      17  ...   Pennsylvania     Explorer       Ford   \n",
       "\n",
       "       id listingCreatedTime  year  type automaticTransmission  listingyear  \\\n",
       "0   58905    7/28/2014 21:43  2014   car                  True         2014   \n",
       "1  403202     4/7/2018 21:48  2017   car                  True         2018   \n",
       "2  320436     9/14/2017 2:27  2014   car                  True         2017   \n",
       "3  350460    11/30/2017 5:03  2006   car                  True         2017   \n",
       "4  429146    5/24/2018 14:07  2017   suv                  True         2018   \n",
       "\n",
       "  population  \n",
       "0    3109350  \n",
       "1    5606249  \n",
       "2    1817004  \n",
       "3   12787641  \n",
       "4   12800922  \n",
       "\n",
       "[5 rows x 23 columns]"
      ]
     },
     "execution_count": 3,
     "metadata": {},
     "output_type": "execute_result"
    }
   ],
   "source": [
    "Turo.head()"
   ]
  },
  {
   "cell_type": "code",
   "execution_count": 4,
   "metadata": {
    "colab": {
     "base_uri": "https://localhost:8080/"
    },
    "id": "OTcEED36fhQ0",
    "outputId": "457d7414-1331-451b-a895-12ef903d0ecc"
   },
   "outputs": [
    {
     "name": "stdout",
     "output_type": "stream",
     "text": [
      "<class 'pandas.core.frame.DataFrame'>\n",
      "RangeIndex: 36279 entries, 0 to 36278\n",
      "Data columns (total 23 columns):\n",
      " #   Column                 Non-Null Count  Dtype  \n",
      "---  ------                 --------------  -----  \n",
      " 0   rating                 21060 non-null  float64\n",
      " 1   renterTripsTaken       36279 non-null  int64  \n",
      " 2   reviewCount            36279 non-null  int64  \n",
      " 3   responseRate           27845 non-null  float64\n",
      " 4   newListing             36279 non-null  bool   \n",
      " 5   freeDeliveryPromotion  36279 non-null  bool   \n",
      " 6   instantBookDisplayed   36279 non-null  bool   \n",
      " 7   deliveryLabel          9038 non-null   object \n",
      " 8   averageDailyPrice      36279 non-null  int64  \n",
      " 9   scalar                 36279 non-null  int64  \n",
      " 10  city                   36279 non-null  object \n",
      " 11  longitude              36279 non-null  float64\n",
      " 12  latitude               36279 non-null  float64\n",
      " 13  state                  36279 non-null  object \n",
      " 14  model                  36279 non-null  object \n",
      " 15  make                   36279 non-null  object \n",
      " 16  id                     36279 non-null  int64  \n",
      " 17  listingCreatedTime     36279 non-null  object \n",
      " 18  year                   36279 non-null  int64  \n",
      " 19  type                   36279 non-null  object \n",
      " 20  automaticTransmission  36279 non-null  bool   \n",
      " 21  listingyear            36279 non-null  int64  \n",
      " 22  population             36279 non-null  int64  \n",
      "dtypes: bool(4), float64(4), int64(8), object(7)\n",
      "memory usage: 5.4+ MB\n"
     ]
    }
   ],
   "source": [
    "Turo.info()"
   ]
  },
  {
   "cell_type": "markdown",
   "metadata": {
    "id": "ZJ6NAyEdFfWr"
   },
   "source": [
    "### Extract year, month and date from timestamp column"
   ]
  },
  {
   "cell_type": "code",
   "execution_count": 5,
   "metadata": {
    "colab": {
     "base_uri": "https://localhost:8080/"
    },
    "id": "aTomPu8cfhQ3",
    "outputId": "3a662cbe-db63-4e61-e99c-d3469c684583"
   },
   "outputs": [
    {
     "data": {
      "text/plain": [
       "0    2014\n",
       "1    2018\n",
       "2    2017\n",
       "3    2017\n",
       "4    2018\n",
       "Name: listingyear, dtype: int64"
      ]
     },
     "execution_count": 5,
     "metadata": {},
     "output_type": "execute_result"
    }
   ],
   "source": [
    "# Create the column listingyear: year of the listing created\n",
    "Turo['listingyear'] = pd.DatetimeIndex(Turo['listingCreatedTime']).year\n",
    "Turo['listingyear'].head()"
   ]
  },
  {
   "cell_type": "code",
   "execution_count": 6,
   "metadata": {
    "colab": {
     "base_uri": "https://localhost:8080/"
    },
    "id": "fg2-fhhJKKqe",
    "outputId": "48ac33b9-ce7c-4d20-8cfe-ff99c0f3ef66"
   },
   "outputs": [
    {
     "data": {
      "text/plain": [
       "2018    18312\n",
       "2017    12330\n",
       "2016     4556\n",
       "2015      791\n",
       "2014      218\n",
       "2013       54\n",
       "2012       18\n",
       "Name: listingyear, dtype: int64"
      ]
     },
     "execution_count": 6,
     "metadata": {},
     "output_type": "execute_result"
    }
   ],
   "source": [
    "Turo['listingyear'].value_counts()"
   ]
  },
  {
   "cell_type": "code",
   "execution_count": 7,
   "metadata": {
    "colab": {
     "base_uri": "https://localhost:8080/"
    },
    "id": "ccOXvYNhIzJD",
    "outputId": "d090d0ca-adf4-4573-9ee5-5cc0cff59077"
   },
   "outputs": [
    {
     "data": {
      "text/plain": [
       "0     7\n",
       "1     4\n",
       "2     9\n",
       "3    11\n",
       "4     5\n",
       "Name: listingmonth, dtype: int64"
      ]
     },
     "execution_count": 7,
     "metadata": {},
     "output_type": "execute_result"
    }
   ],
   "source": [
    "# Create the column listingmonth: month of the listing created\n",
    "Turo['listingmonth'] = pd.DatetimeIndex(Turo['listingCreatedTime']).month\n",
    "Turo['listingmonth'].head()"
   ]
  },
  {
   "cell_type": "code",
   "execution_count": 8,
   "metadata": {
    "colab": {
     "base_uri": "https://localhost:8080/"
    },
    "id": "ENflgPuGB2pl",
    "outputId": "c701b229-dc07-491f-ec85-bae56bf19415"
   },
   "outputs": [
    {
     "data": {
      "text/plain": [
       "0    2014-07-28\n",
       "1    2018-04-07\n",
       "2    2017-09-14\n",
       "3    2017-11-30\n",
       "4    2018-05-24\n",
       "Name: listingCreatedDate, dtype: object"
      ]
     },
     "execution_count": 8,
     "metadata": {},
     "output_type": "execute_result"
    }
   ],
   "source": [
    "# Create the column listingCreatedDate: date of the listing created\n",
    "Turo[\"listingCreatedDate\"] = pd.to_datetime(Turo[\"listingCreatedTime\"]).dt.date\n",
    "Turo['listingCreatedDate'].head()"
   ]
  },
  {
   "cell_type": "markdown",
   "metadata": {
    "id": "HaEWnhzhqn1p"
   },
   "source": [
    "### Impute Missing Values"
   ]
  },
  {
   "cell_type": "code",
   "execution_count": 9,
   "metadata": {
    "colab": {
     "base_uri": "https://localhost:8080/"
    },
    "id": "NusLOmXqirkM",
    "outputId": "f8c17071-d566-4529-e0f6-741ded67c3a7"
   },
   "outputs": [
    {
     "name": "stdout",
     "output_type": "stream",
     "text": [
      "rating                   15219\n",
      "renterTripsTaken             0\n",
      "reviewCount                  0\n",
      "responseRate              8434\n",
      "newListing                   0\n",
      "freeDeliveryPromotion        0\n",
      "instantBookDisplayed         0\n",
      "deliveryLabel            27241\n",
      "averageDailyPrice            0\n",
      "scalar                       0\n",
      "city                         0\n",
      "longitude                    0\n",
      "latitude                     0\n",
      "state                        0\n",
      "model                        0\n",
      "make                         0\n",
      "id                           0\n",
      "listingCreatedTime           0\n",
      "year                         0\n",
      "type                         0\n",
      "automaticTransmission        0\n",
      "listingyear                  0\n",
      "population                   0\n",
      "listingmonth                 0\n",
      "listingCreatedDate           0\n",
      "dtype: int64\n"
     ]
    }
   ],
   "source": [
    "# Check whether there is missing values\n",
    "print(Turo.isnull().sum())\n",
    "# There are missing values in rating, responseRate, and deliveryLabel"
   ]
  },
  {
   "cell_type": "code",
   "execution_count": 10,
   "metadata": {
    "colab": {
     "base_uri": "https://localhost:8080/",
     "height": 268
    },
    "id": "DhTxLtAnneZG",
    "outputId": "90c63294-607a-4195-ab8b-b8254ee2577a"
   },
   "outputs": [
    {
     "name": "stderr",
     "output_type": "stream",
     "text": [
      "C:\\Users\\HP\\anaconda3\\lib\\site-packages\\numpy\\lib\\histograms.py:839: RuntimeWarning: invalid value encountered in greater_equal\n",
      "  keep = (tmp_a >= first_edge)\n",
      "C:\\Users\\HP\\anaconda3\\lib\\site-packages\\numpy\\lib\\histograms.py:840: RuntimeWarning: invalid value encountered in less_equal\n",
      "  keep &= (tmp_a <= last_edge)\n"
     ]
    },
    {
     "data": {
      "image/png": "[encoded data removed]",
      "text/plain": [
       "<Figure size 432x288 with 1 Axes>"
      ]
     },
     "metadata": {},
     "output_type": "display_data"
    }
   ],
   "source": [
    "plt.hist(Turo['rating'],bins=30)\n",
    "plt.show() \n",
    "# Most listings get ratings around 4.5 - 5.0. We can assume the missing ratings\n",
    "# are similar to the mean rating"
   ]
  },
  {
   "cell_type": "code",
   "execution_count": 11,
   "metadata": {
    "id": "8watdMLSjPFP"
   },
   "outputs": [],
   "source": [
    "# impute missing values in rating with mean\n",
    "Turo['rating'].fillna((Turo['rating'].mean()), inplace=True)"
   ]
  },
  {
   "cell_type": "code",
   "execution_count": 12,
   "metadata": {
    "colab": {
     "base_uri": "https://localhost:8080/",
     "height": 268
    },
    "id": "boAhWnGipdiC",
    "outputId": "f6013af8-1861-4922-edd1-4e53943971f7"
   },
   "outputs": [
    {
     "data": {
      "image/png": "[encoded data removed]",
      "text/plain": [
       "<Figure size 432x288 with 1 Axes>"
      ]
     },
     "metadata": {},
     "output_type": "display_data"
    }
   ],
   "source": [
    "# There is 0 in reponse rate. We can assume the missing value is 0. \n",
    "plt.hist(Turo['responseRate'],bins=30)\n",
    "plt.show() "
   ]
  },
  {
   "cell_type": "code",
   "execution_count": 13,
   "metadata": {
    "id": "yw2pJiPipyxr"
   },
   "outputs": [],
   "source": [
    "# Impute missing response rate with 0\n",
    "Turo['responseRate'] = Turo['responseRate'].fillna(0)"
   ]
  },
  {
   "cell_type": "code",
   "execution_count": 14,
   "metadata": {
    "colab": {
     "base_uri": "https://localhost:8080/"
    },
    "id": "wbm_js0Eqs_M",
    "outputId": "0c08bc7e-f661-46f3-c0ab-79b89dd1d0ba"
   },
   "outputs": [
    {
     "data": {
      "text/plain": [
       "FREE DELIVERY    9038\n",
       "Name: deliveryLabel, dtype: int64"
      ]
     },
     "execution_count": 14,
     "metadata": {},
     "output_type": "execute_result"
    }
   ],
   "source": [
    "Turo['deliveryLabel'].value_counts()\n",
    "# This column has either \"FREE DELIVERY\" or \"None\". We can drop this \n",
    "# column because it is not meaningful"
   ]
  },
  {
   "cell_type": "markdown",
   "metadata": {
    "id": "XCn1xAT8fhQ-"
   },
   "source": [
    "# EDA"
   ]
  },
  {
   "cell_type": "markdown",
   "metadata": {
    "id": "zUK0mm9EssQp"
   },
   "source": [
    "### renterTripsTaken (representing the demand)"
   ]
  },
  {
   "cell_type": "code",
   "execution_count": 15,
   "metadata": {
    "colab": {
     "base_uri": "https://localhost:8080/"
    },
    "id": "vgtrRltutpob",
    "outputId": "3c4f7c8c-7689-4ebc-88af-c6acc717f78e"
   },
   "outputs": [
    {
     "data": {
      "text/plain": [
       "count    36279.000000\n",
       "mean        11.040823\n",
       "std         22.486039\n",
       "min          0.000000\n",
       "25%          0.000000\n",
       "50%          2.000000\n",
       "75%         11.000000\n",
       "max        450.000000\n",
       "Name: renterTripsTaken, dtype: float64"
      ]
     },
     "execution_count": 15,
     "metadata": {},
     "output_type": "execute_result"
    }
   ],
   "source": [
    "Turo['renterTripsTaken'].describe()\n",
    "# Min is 0. Max is 450, which may be an outlier.  "
   ]
  },
  {
   "cell_type": "code",
   "execution_count": 16,
   "metadata": {
    "colab": {
     "base_uri": "https://localhost:8080/",
     "height": 268
    },
    "id": "aNLWehAxsRns",
    "outputId": "fd0c9418-a122-4700-af77-4d39d4b20ecf"
   },
   "outputs": [
    {
     "data": {
      "image/png": "[encoded data removed]",
      "text/plain": [
       "<Figure size 432x288 with 1 Axes>"
      ]
     },
     "metadata": {},
     "output_type": "display_data"
    }
   ],
   "source": [
    "plt.hist(Turo['renterTripsTaken'],bins=100)\n",
    "plt.xlim(0,70)\n",
    "plt.show() "
   ]
  },
  {
   "cell_type": "markdown",
   "metadata": {
    "id": "evoGDcTRuh1u"
   },
   "source": [
    "## averageDailyPrice"
   ]
  },
  {
   "cell_type": "code",
   "execution_count": 17,
   "metadata": {
    "colab": {
     "base_uri": "https://localhost:8080/"
    },
    "id": "Wq-Mhi6cuxjx",
    "outputId": "5ded02f9-60fd-4109-8e48-826ff9ce47b2"
   },
   "outputs": [
    {
     "data": {
      "text/plain": [
       "count    36279.000000\n",
       "mean        98.566471\n",
       "std        112.602460\n",
       "min         10.000000\n",
       "25%         39.000000\n",
       "50%         64.000000\n",
       "75%        110.000000\n",
       "max       1999.000000\n",
       "Name: averageDailyPrice, dtype: float64"
      ]
     },
     "execution_count": 17,
     "metadata": {},
     "output_type": "execute_result"
    }
   ],
   "source": [
    "Turo['averageDailyPrice'].describe()"
   ]
  },
  {
   "cell_type": "code",
   "execution_count": 18,
   "metadata": {
    "colab": {
     "base_uri": "https://localhost:8080/",
     "height": 268
    },
    "id": "xDBSSuePvF2e",
    "outputId": "b5b84cd8-c827-4b83-89e1-bbcd8bd4e83d"
   },
   "outputs": [
    {
     "data": {
      "image/png": "[encoded data removed]",
      "text/plain": [
       "<Figure size 432x288 with 1 Axes>"
      ]
     },
     "metadata": {},
     "output_type": "display_data"
    }
   ],
   "source": [
    "plt.hist(Turo['averageDailyPrice'],bins=100)\n",
    "plt.show() \n",
    "# left skewed, with an outlier = 1999 "
   ]
  },
  {
   "cell_type": "code",
   "execution_count": 19,
   "metadata": {
    "colab": {
     "base_uri": "https://localhost:8080/",
     "height": 522
    },
    "id": "S0ZFpF6Lhfk5",
    "outputId": "14450962-a388-4b42-e374-08c4624eb082"
   },
   "outputs": [
    {
     "data": {
      "text/html": [
       "<div>\n",
       "<style scoped>\n",
       "    .dataframe tbody tr th:only-of-type {\n",
       "        vertical-align: middle;\n",
       "    }\n",
       "\n",
       "    .dataframe tbody tr th {\n",
       "        vertical-align: top;\n",
       "    }\n",
       "\n",
       "    .dataframe thead th {\n",
       "        text-align: right;\n",
       "    }\n",
       "</style>\n",
       "<table border=\"1\" class=\"dataframe\">\n",
       "  <thead>\n",
       "    <tr style=\"text-align: right;\">\n",
       "      <th></th>\n",
       "      <th>rating</th>\n",
       "      <th>renterTripsTaken</th>\n",
       "      <th>reviewCount</th>\n",
       "      <th>responseRate</th>\n",
       "      <th>newListing</th>\n",
       "      <th>freeDeliveryPromotion</th>\n",
       "      <th>instantBookDisplayed</th>\n",
       "      <th>deliveryLabel</th>\n",
       "      <th>averageDailyPrice</th>\n",
       "      <th>scalar</th>\n",
       "      <th>...</th>\n",
       "      <th>make</th>\n",
       "      <th>id</th>\n",
       "      <th>listingCreatedTime</th>\n",
       "      <th>year</th>\n",
       "      <th>type</th>\n",
       "      <th>automaticTransmission</th>\n",
       "      <th>listingyear</th>\n",
       "      <th>population</th>\n",
       "      <th>listingmonth</th>\n",
       "      <th>listingCreatedDate</th>\n",
       "    </tr>\n",
       "  </thead>\n",
       "  <tbody>\n",
       "    <tr>\n",
       "      <th>2</th>\n",
       "      <td>4.873181</td>\n",
       "      <td>0</td>\n",
       "      <td>0</td>\n",
       "      <td>0.0</td>\n",
       "      <td>False</td>\n",
       "      <td>False</td>\n",
       "      <td>True</td>\n",
       "      <td>NaN</td>\n",
       "      <td>40</td>\n",
       "      <td>5</td>\n",
       "      <td>...</td>\n",
       "      <td>Chevrolet</td>\n",
       "      <td>320436</td>\n",
       "      <td>9/14/2017 2:27</td>\n",
       "      <td>2014</td>\n",
       "      <td>car</td>\n",
       "      <td>True</td>\n",
       "      <td>2017</td>\n",
       "      <td>1817004</td>\n",
       "      <td>9</td>\n",
       "      <td>2017-09-14</td>\n",
       "    </tr>\n",
       "    <tr>\n",
       "      <th>3</th>\n",
       "      <td>3.750000</td>\n",
       "      <td>4</td>\n",
       "      <td>5</td>\n",
       "      <td>100.0</td>\n",
       "      <td>False</td>\n",
       "      <td>False</td>\n",
       "      <td>True</td>\n",
       "      <td>NaN</td>\n",
       "      <td>99</td>\n",
       "      <td>19</td>\n",
       "      <td>...</td>\n",
       "      <td>BMW</td>\n",
       "      <td>350460</td>\n",
       "      <td>11/30/2017 5:03</td>\n",
       "      <td>2006</td>\n",
       "      <td>car</td>\n",
       "      <td>True</td>\n",
       "      <td>2017</td>\n",
       "      <td>12787641</td>\n",
       "      <td>11</td>\n",
       "      <td>2017-11-30</td>\n",
       "    </tr>\n",
       "    <tr>\n",
       "      <th>10</th>\n",
       "      <td>5.000000</td>\n",
       "      <td>13</td>\n",
       "      <td>13</td>\n",
       "      <td>100.0</td>\n",
       "      <td>False</td>\n",
       "      <td>True</td>\n",
       "      <td>True</td>\n",
       "      <td>FREE DELIVERY</td>\n",
       "      <td>252</td>\n",
       "      <td>3</td>\n",
       "      <td>...</td>\n",
       "      <td>Tesla</td>\n",
       "      <td>360830</td>\n",
       "      <td>12/29/2017 17:16</td>\n",
       "      <td>2017</td>\n",
       "      <td>car</td>\n",
       "      <td>True</td>\n",
       "      <td>2017</td>\n",
       "      <td>9973114</td>\n",
       "      <td>12</td>\n",
       "      <td>2017-12-29</td>\n",
       "    </tr>\n",
       "    <tr>\n",
       "      <th>11</th>\n",
       "      <td>5.000000</td>\n",
       "      <td>5</td>\n",
       "      <td>4</td>\n",
       "      <td>100.0</td>\n",
       "      <td>False</td>\n",
       "      <td>False</td>\n",
       "      <td>True</td>\n",
       "      <td>NaN</td>\n",
       "      <td>84</td>\n",
       "      <td>7</td>\n",
       "      <td>...</td>\n",
       "      <td>Ford</td>\n",
       "      <td>278040</td>\n",
       "      <td>6/8/2017 13:45</td>\n",
       "      <td>2007</td>\n",
       "      <td>car</td>\n",
       "      <td>True</td>\n",
       "      <td>2017</td>\n",
       "      <td>9973114</td>\n",
       "      <td>6</td>\n",
       "      <td>2017-06-08</td>\n",
       "    </tr>\n",
       "    <tr>\n",
       "      <th>15</th>\n",
       "      <td>4.888900</td>\n",
       "      <td>38</td>\n",
       "      <td>28</td>\n",
       "      <td>100.0</td>\n",
       "      <td>False</td>\n",
       "      <td>False</td>\n",
       "      <td>True</td>\n",
       "      <td>NaN</td>\n",
       "      <td>119</td>\n",
       "      <td>14</td>\n",
       "      <td>...</td>\n",
       "      <td>GMC</td>\n",
       "      <td>281422</td>\n",
       "      <td>6/16/2017 15:23</td>\n",
       "      <td>2016</td>\n",
       "      <td>suv</td>\n",
       "      <td>True</td>\n",
       "      <td>2017</td>\n",
       "      <td>9973114</td>\n",
       "      <td>6</td>\n",
       "      <td>2017-06-16</td>\n",
       "    </tr>\n",
       "    <tr>\n",
       "      <th>...</th>\n",
       "      <td>...</td>\n",
       "      <td>...</td>\n",
       "      <td>...</td>\n",
       "      <td>...</td>\n",
       "      <td>...</td>\n",
       "      <td>...</td>\n",
       "      <td>...</td>\n",
       "      <td>...</td>\n",
       "      <td>...</td>\n",
       "      <td>...</td>\n",
       "      <td>...</td>\n",
       "      <td>...</td>\n",
       "      <td>...</td>\n",
       "      <td>...</td>\n",
       "      <td>...</td>\n",
       "      <td>...</td>\n",
       "      <td>...</td>\n",
       "      <td>...</td>\n",
       "      <td>...</td>\n",
       "      <td>...</td>\n",
       "      <td>...</td>\n",
       "    </tr>\n",
       "    <tr>\n",
       "      <th>36269</th>\n",
       "      <td>5.000000</td>\n",
       "      <td>7</td>\n",
       "      <td>5</td>\n",
       "      <td>100.0</td>\n",
       "      <td>False</td>\n",
       "      <td>True</td>\n",
       "      <td>True</td>\n",
       "      <td>NaN</td>\n",
       "      <td>60</td>\n",
       "      <td>2</td>\n",
       "      <td>...</td>\n",
       "      <td>Ford</td>\n",
       "      <td>307985</td>\n",
       "      <td>8/15/2017 21:40</td>\n",
       "      <td>2014</td>\n",
       "      <td>truck</td>\n",
       "      <td>True</td>\n",
       "      <td>2017</td>\n",
       "      <td>7423362</td>\n",
       "      <td>8</td>\n",
       "      <td>2017-08-15</td>\n",
       "    </tr>\n",
       "    <tr>\n",
       "      <th>36271</th>\n",
       "      <td>5.000000</td>\n",
       "      <td>13</td>\n",
       "      <td>12</td>\n",
       "      <td>90.0</td>\n",
       "      <td>False</td>\n",
       "      <td>False</td>\n",
       "      <td>True</td>\n",
       "      <td>FREE DELIVERY</td>\n",
       "      <td>50</td>\n",
       "      <td>3</td>\n",
       "      <td>...</td>\n",
       "      <td>Honda</td>\n",
       "      <td>206336</td>\n",
       "      <td>3/24/2017 0:09</td>\n",
       "      <td>2012</td>\n",
       "      <td>car</td>\n",
       "      <td>True</td>\n",
       "      <td>2017</td>\n",
       "      <td>7423362</td>\n",
       "      <td>3</td>\n",
       "      <td>2017-03-24</td>\n",
       "    </tr>\n",
       "    <tr>\n",
       "      <th>36272</th>\n",
       "      <td>5.000000</td>\n",
       "      <td>7</td>\n",
       "      <td>5</td>\n",
       "      <td>100.0</td>\n",
       "      <td>False</td>\n",
       "      <td>True</td>\n",
       "      <td>True</td>\n",
       "      <td>NaN</td>\n",
       "      <td>38</td>\n",
       "      <td>14</td>\n",
       "      <td>...</td>\n",
       "      <td>Jeep</td>\n",
       "      <td>357430</td>\n",
       "      <td>12/19/2017 22:31</td>\n",
       "      <td>2012</td>\n",
       "      <td>suv</td>\n",
       "      <td>True</td>\n",
       "      <td>2017</td>\n",
       "      <td>7423362</td>\n",
       "      <td>12</td>\n",
       "      <td>2017-12-19</td>\n",
       "    </tr>\n",
       "    <tr>\n",
       "      <th>36273</th>\n",
       "      <td>5.000000</td>\n",
       "      <td>4</td>\n",
       "      <td>2</td>\n",
       "      <td>100.0</td>\n",
       "      <td>False</td>\n",
       "      <td>False</td>\n",
       "      <td>False</td>\n",
       "      <td>NaN</td>\n",
       "      <td>53</td>\n",
       "      <td>14</td>\n",
       "      <td>...</td>\n",
       "      <td>Ford</td>\n",
       "      <td>274882</td>\n",
       "      <td>5/31/2017 22:14</td>\n",
       "      <td>2013</td>\n",
       "      <td>truck</td>\n",
       "      <td>True</td>\n",
       "      <td>2017</td>\n",
       "      <td>7423362</td>\n",
       "      <td>5</td>\n",
       "      <td>2017-05-31</td>\n",
       "    </tr>\n",
       "    <tr>\n",
       "      <th>36274</th>\n",
       "      <td>4.873181</td>\n",
       "      <td>0</td>\n",
       "      <td>0</td>\n",
       "      <td>0.0</td>\n",
       "      <td>False</td>\n",
       "      <td>False</td>\n",
       "      <td>True</td>\n",
       "      <td>NaN</td>\n",
       "      <td>84</td>\n",
       "      <td>13</td>\n",
       "      <td>...</td>\n",
       "      <td>Cadillac</td>\n",
       "      <td>247785</td>\n",
       "      <td>3/4/2017 17:07</td>\n",
       "      <td>2007</td>\n",
       "      <td>suv</td>\n",
       "      <td>True</td>\n",
       "      <td>2017</td>\n",
       "      <td>7423362</td>\n",
       "      <td>3</td>\n",
       "      <td>2017-03-04</td>\n",
       "    </tr>\n",
       "  </tbody>\n",
       "</table>\n",
       "<p>12330 rows × 25 columns</p>\n",
       "</div>"
      ],
      "text/plain": [
       "         rating  renterTripsTaken  reviewCount  responseRate  newListing  \\\n",
       "2      4.873181                 0            0           0.0       False   \n",
       "3      3.750000                 4            5         100.0       False   \n",
       "10     5.000000                13           13         100.0       False   \n",
       "11     5.000000                 5            4         100.0       False   \n",
       "15     4.888900                38           28         100.0       False   \n",
       "...         ...               ...          ...           ...         ...   \n",
       "36269  5.000000                 7            5         100.0       False   \n",
       "36271  5.000000                13           12          90.0       False   \n",
       "36272  5.000000                 7            5         100.0       False   \n",
       "36273  5.000000                 4            2         100.0       False   \n",
       "36274  4.873181                 0            0           0.0       False   \n",
       "\n",
       "       freeDeliveryPromotion  instantBookDisplayed  deliveryLabel  \\\n",
       "2                      False                  True            NaN   \n",
       "3                      False                  True            NaN   \n",
       "10                      True                  True  FREE DELIVERY   \n",
       "11                     False                  True            NaN   \n",
       "15                     False                  True            NaN   \n",
       "...                      ...                   ...            ...   \n",
       "36269                   True                  True            NaN   \n",
       "36271                  False                  True  FREE DELIVERY   \n",
       "36272                   True                  True            NaN   \n",
       "36273                  False                 False            NaN   \n",
       "36274                  False                  True            NaN   \n",
       "\n",
       "       averageDailyPrice  scalar  ...       make      id  listingCreatedTime  \\\n",
       "2                     40       5  ...  Chevrolet  320436      9/14/2017 2:27   \n",
       "3                     99      19  ...        BMW  350460     11/30/2017 5:03   \n",
       "10                   252       3  ...      Tesla  360830    12/29/2017 17:16   \n",
       "11                    84       7  ...       Ford  278040      6/8/2017 13:45   \n",
       "15                   119      14  ...        GMC  281422     6/16/2017 15:23   \n",
       "...                  ...     ...  ...        ...     ...                 ...   \n",
       "36269                 60       2  ...       Ford  307985     8/15/2017 21:40   \n",
       "36271                 50       3  ...      Honda  206336      3/24/2017 0:09   \n",
       "36272                 38      14  ...       Jeep  357430    12/19/2017 22:31   \n",
       "36273                 53      14  ...       Ford  274882     5/31/2017 22:14   \n",
       "36274                 84      13  ...   Cadillac  247785      3/4/2017 17:07   \n",
       "\n",
       "       year   type automaticTransmission  listingyear population  \\\n",
       "2      2014    car                  True         2017    1817004   \n",
       "3      2006    car                  True         2017   12787641   \n",
       "10     2017    car                  True         2017    9973114   \n",
       "11     2007    car                  True         2017    9973114   \n",
       "15     2016    suv                  True         2017    9973114   \n",
       "...     ...    ...                   ...          ...        ...   \n",
       "36269  2014  truck                  True         2017    7423362   \n",
       "36271  2012    car                  True         2017    7423362   \n",
       "36272  2012    suv                  True         2017    7423362   \n",
       "36273  2013  truck                  True         2017    7423362   \n",
       "36274  2007    suv                  True         2017    7423362   \n",
       "\n",
       "       listingmonth listingCreatedDate  \n",
       "2                 9         2017-09-14  \n",
       "3                11         2017-11-30  \n",
       "10               12         2017-12-29  \n",
       "11                6         2017-06-08  \n",
       "15                6         2017-06-16  \n",
       "...             ...                ...  \n",
       "36269             8         2017-08-15  \n",
       "36271             3         2017-03-24  \n",
       "36272            12         2017-12-19  \n",
       "36273             5         2017-05-31  \n",
       "36274             3         2017-03-04  \n",
       "\n",
       "[12330 rows x 25 columns]"
      ]
     },
     "execution_count": 19,
     "metadata": {},
     "output_type": "execute_result"
    }
   ],
   "source": [
    "Turo[Turo[\"listingyear\"] == 2017]"
   ]
  },
  {
   "cell_type": "markdown",
   "metadata": {
    "id": "KA7NHEvo5AMy"
   },
   "source": [
    "## Demand v.s. Price"
   ]
  },
  {
   "cell_type": "code",
   "execution_count": 20,
   "metadata": {
    "colab": {
     "base_uri": "https://localhost:8080/",
     "height": 285
    },
    "id": "SCsroANZwlNm",
    "outputId": "29796b9c-8e57-43c8-c5a6-2a743d5bc85c"
   },
   "outputs": [
    {
     "data": {
      "image/png": "[encoded data removed]",
      "text/plain": [
       "<Figure size 432x288 with 1 Axes>"
      ]
     },
     "metadata": {},
     "output_type": "display_data"
    }
   ],
   "source": [
    "plt.scatter(Turo['averageDailyPrice'], Turo['renterTripsTaken'])\n",
    "plt.xlabel(\"AVG Daily Price\")\n",
    "plt.ylabel(\"Number of Trips\")\n",
    "plt.show() \n",
    "# There seems to be a curve pattern in the plot. \n",
    "# The higher the price,the lower the number of trips. \n",
    "# Therefore, using renterTripsTaken to represent demand makes sense. "
   ]
  },
  {
   "cell_type": "markdown",
   "metadata": {
    "id": "jb95ezpS9EzQ"
   },
   "source": [
    "# Demand over time\n",
    "\n"
   ]
  },
  {
   "cell_type": "markdown",
   "metadata": {
    "id": "PTNP8qppQ3Bg"
   },
   "source": [
    "#### Overall trend\n"
   ]
  },
  {
   "cell_type": "code",
   "execution_count": 21,
   "metadata": {
    "id": "MVfLbCh3EfeH"
   },
   "outputs": [],
   "source": [
    "demand_over_time = Turo[[\"renterTripsTaken\",\"listingCreatedDate\"]].groupby(by=[\"listingCreatedDate\"]).sum()"
   ]
  },
  {
   "cell_type": "code",
   "execution_count": 22,
   "metadata": {
    "colab": {
     "base_uri": "https://localhost:8080/",
     "height": 288
    },
    "id": "KJFDkuz0E5CU",
    "outputId": "6a568ff3-3ce9-4041-a583-fb0dd2ffbafe"
   },
   "outputs": [
    {
     "data": {
      "image/png": "[encoded data removed]",
      "text/plain": [
       "<Figure size 432x288 with 1 Axes>"
      ]
     },
     "metadata": {},
     "output_type": "display_data"
    }
   ],
   "source": [
    "plt.plot(demand_over_time.index, demand_over_time[\"renterTripsTaken\"], color='tab:orange', label='Windspeed')\n",
    "plt.xlabel(\"Date\")\n",
    "plt.ylabel(\"Number of Trips\")\n",
    "plt.show()\n",
    "# 2012 has an extremely high trip demand. The demand increases until mid-2017 and then goes down.  "
   ]
  },
  {
   "cell_type": "markdown",
   "metadata": {
    "id": "NzsJktg-RCR0"
   },
   "source": [
    "### Seasonal trend by year"
   ]
  },
  {
   "cell_type": "code",
   "execution_count": 23,
   "metadata": {
    "colab": {
     "base_uri": "https://localhost:8080/",
     "height": 285
    },
    "id": "4DsgYi6qM81U",
    "outputId": "1c8214f0-addf-4cfe-ad8f-89874c1a2617"
   },
   "outputs": [
    {
     "data": {
      "image/png": "[encoded data removed]",
      "text/plain": [
       "<Figure size 432x288 with 1 Axes>"
      ]
     },
     "metadata": {},
     "output_type": "display_data"
    }
   ],
   "source": [
    "# Demand in 2018\n",
    "demand_18 = Turo[Turo[\"listingyear\"] == 2018]\n",
    "demand_18 = demand_18[[\"renterTripsTaken\",\"listingmonth\"]].groupby(by=[\"listingmonth\"]).sum()\n",
    "plt.plot(demand_18.index, demand_18[\"renterTripsTaken\"], color='tab:orange', label='Windspeed')\n",
    "plt.xlabel(\"Month\")\n",
    "plt.ylabel(\"Number of Trips\")\n",
    "plt.show()"
   ]
  },
  {
   "cell_type": "code",
   "execution_count": 24,
   "metadata": {
    "colab": {
     "base_uri": "https://localhost:8080/",
     "height": 289
    },
    "id": "azOynjclLJJM",
    "outputId": "f879f46e-6439-4425-bcf4-a10d74216bca"
   },
   "outputs": [
    {
     "data": {
      "image/png": "[encoded data removed]",
      "text/plain": [
       "<Figure size 432x288 with 1 Axes>"
      ]
     },
     "metadata": {},
     "output_type": "display_data"
    }
   ],
   "source": [
    "# Demand in 2017\n",
    "demand_17 = Turo[Turo[\"listingyear\"] == 2017]\n",
    "demand_17 = demand_17[[\"renterTripsTaken\",\"listingmonth\"]].groupby(by=[\"listingmonth\"]).sum()\n",
    "plt.plot(demand_17 .index, demand_17[\"renterTripsTaken\"], color='tab:orange', label='Windspeed')\n",
    "plt.xlabel(\"Month\")\n",
    "plt.xticks(rotation = 90)\n",
    "plt.ylabel(\"Number of Trips\")\n",
    "plt.show()"
   ]
  },
  {
   "cell_type": "code",
   "execution_count": 25,
   "metadata": {
    "colab": {
     "base_uri": "https://localhost:8080/",
     "height": 289
    },
    "id": "aXIzn6HlMg5-",
    "outputId": "7c96d1f1-147f-4a7c-fe82-a0c09b2c4571"
   },
   "outputs": [
    {
     "data": {
      "image/png": "[encoded data removed]",
      "text/plain": [
       "<Figure size 432x288 with 1 Axes>"
      ]
     },
     "metadata": {},
     "output_type": "display_data"
    }
   ],
   "source": [
    "# Demand in 2016\n",
    "demand_16 = Turo[Turo[\"listingyear\"] == 2016]\n",
    "demand_16 = demand_16[[\"renterTripsTaken\",\"listingmonth\"]].groupby(by=[\"listingmonth\"]).sum()\n",
    "plt.plot(demand_16 .index, demand_16[\"renterTripsTaken\"], color='tab:orange', label='Windspeed')\n",
    "plt.xlabel(\"Month\")\n",
    "plt.xticks(rotation = 90)\n",
    "plt.ylabel(\"Number of Trips\")\n",
    "plt.show()"
   ]
  },
  {
   "cell_type": "code",
   "execution_count": 26,
   "metadata": {
    "colab": {
     "base_uri": "https://localhost:8080/",
     "height": 289
    },
    "id": "4iLWDiuuMvKT",
    "outputId": "36811c50-a98f-4382-f721-5ed58c112f6d"
   },
   "outputs": [
    {
     "data": {
      "image/png": "[encoded data removed]",
      "text/plain": [
       "<Figure size 432x288 with 1 Axes>"
      ]
     },
     "metadata": {},
     "output_type": "display_data"
    }
   ],
   "source": [
    "# Demand in 2015\n",
    "demand_15 = Turo[Turo[\"listingyear\"] == 2015]\n",
    "demand_15 = demand_15[[\"renterTripsTaken\",\"listingmonth\"]].groupby(by=[\"listingmonth\"]).sum()\n",
    "plt.plot(demand_15 .index, demand_15[\"renterTripsTaken\"], color='tab:orange', label='Windspeed')\n",
    "plt.xlabel(\"Month\")\n",
    "plt.xticks(rotation = 90)\n",
    "plt.ylabel(\"Number of Trips\")\n",
    "plt.show()"
   ]
  },
  {
   "cell_type": "code",
   "execution_count": 27,
   "metadata": {
    "colab": {
     "base_uri": "https://localhost:8080/",
     "height": 289
    },
    "id": "StqtN-3wNd8h",
    "outputId": "c22620fd-6d98-41a3-d5c1-0aa6a5465962"
   },
   "outputs": [
    {
     "data": {
      "image/png": "[encoded data removed]",
      "text/plain": [
       "<Figure size 432x288 with 1 Axes>"
      ]
     },
     "metadata": {},
     "output_type": "display_data"
    }
   ],
   "source": [
    "# Demand in 2014\n",
    "demand_14 = Turo[Turo[\"listingyear\"] == 2014]\n",
    "demand_14 = demand_14[[\"renterTripsTaken\",\"listingmonth\"]].groupby(by=[\"listingmonth\"]).sum()\n",
    "plt.plot(demand_14 .index, demand_14[\"renterTripsTaken\"], color='tab:orange', label='Windspeed')\n",
    "plt.xlabel(\"Month\")\n",
    "plt.xticks(rotation = 90)\n",
    "plt.ylabel(\"Number of Trips\")\n",
    "plt.show()"
   ]
  },
  {
   "cell_type": "code",
   "execution_count": 28,
   "metadata": {
    "colab": {
     "base_uri": "https://localhost:8080/",
     "height": 289
    },
    "id": "qFcX98RFOWji",
    "outputId": "319f7d55-1c1f-4d03-f236-40bd3256ee54"
   },
   "outputs": [
    {
     "data": {
      "image/png": "[encoded data removed]",
      "text/plain": [
       "<Figure size 432x288 with 1 Axes>"
      ]
     },
     "metadata": {},
     "output_type": "display_data"
    }
   ],
   "source": [
    "# Demand in 2013\n",
    "demand_13 = Turo[Turo[\"listingyear\"] == 2013]\n",
    "demand_13 = demand_13[[\"renterTripsTaken\",\"listingmonth\"]].groupby(by=[\"listingmonth\"]).sum()\n",
    "plt.plot(demand_13 .index, demand_13[\"renterTripsTaken\"], color='tab:orange', label='Windspeed')\n",
    "plt.xlabel(\"Month\")\n",
    "plt.xticks(rotation = 90)\n",
    "plt.ylabel(\"Number of Trips\")\n",
    "plt.show()"
   ]
  },
  {
   "cell_type": "markdown",
   "metadata": {
    "id": "5OsUl5A5WggY"
   },
   "source": [
    "Every year, the seasonal change in demand is different."
   ]
  },
  {
   "cell_type": "code",
   "execution_count": 29,
   "metadata": {
    "colab": {
     "base_uri": "https://localhost:8080/",
     "height": 144
    },
    "id": "2RBRRJVROqOH",
    "outputId": "d6c75096-83f8-4e90-df69-355e6018b65c"
   },
   "outputs": [
    {
     "data": {
      "text/html": [
       "<div>\n",
       "<style scoped>\n",
       "    .dataframe tbody tr th:only-of-type {\n",
       "        vertical-align: middle;\n",
       "    }\n",
       "\n",
       "    .dataframe tbody tr th {\n",
       "        vertical-align: top;\n",
       "    }\n",
       "\n",
       "    .dataframe thead th {\n",
       "        text-align: right;\n",
       "    }\n",
       "</style>\n",
       "<table border=\"1\" class=\"dataframe\">\n",
       "  <thead>\n",
       "    <tr style=\"text-align: right;\">\n",
       "      <th></th>\n",
       "      <th>renterTripsTaken</th>\n",
       "    </tr>\n",
       "    <tr>\n",
       "      <th>listingCreatedTime</th>\n",
       "      <th></th>\n",
       "    </tr>\n",
       "  </thead>\n",
       "  <tbody>\n",
       "    <tr>\n",
       "      <th>12/4/2012 19:12</th>\n",
       "      <td>1912</td>\n",
       "    </tr>\n",
       "    <tr>\n",
       "      <th>12/7/2012 1:40</th>\n",
       "      <td>115</td>\n",
       "    </tr>\n",
       "  </tbody>\n",
       "</table>\n",
       "</div>"
      ],
      "text/plain": [
       "                    renterTripsTaken\n",
       "listingCreatedTime                  \n",
       "12/4/2012 19:12                 1912\n",
       "12/7/2012 1:40                   115"
      ]
     },
     "execution_count": 29,
     "metadata": {},
     "output_type": "execute_result"
    }
   ],
   "source": [
    "# Demand in 2012\n",
    "demand_12 = Turo[Turo[\"listingyear\"] == 2012]\n",
    "demand_12 = demand_12[[\"renterTripsTaken\",\"listingCreatedTime\"]].groupby(by=[\"listingCreatedTime\"]).sum()\n",
    "demand_12.head()\n",
    "# There are only two records in 2012. We may need to exclude 2012 from our analysis. "
   ]
  },
  {
   "cell_type": "markdown",
   "metadata": {
    "id": "bccqwKpdWYTP"
   },
   "source": [
    "### Overall seasonal trend"
   ]
  },
  {
   "cell_type": "code",
   "execution_count": 30,
   "metadata": {
    "colab": {
     "base_uri": "https://localhost:8080/",
     "height": 285
    },
    "id": "xWWFxjgtIs9-",
    "outputId": "361cc116-0b11-4060-c4d5-a2f6b4b9e70d"
   },
   "outputs": [
    {
     "data": {
      "image/png": "[encoded data removed]",
      "text/plain": [
       "<Figure size 432x288 with 1 Axes>"
      ]
     },
     "metadata": {},
     "output_type": "display_data"
    }
   ],
   "source": [
    "demand_over_month = Turo[[\"renterTripsTaken\",\"listingmonth\"]].groupby(by=[\"listingmonth\"]).sum()\n",
    "plt.plot(demand_over_month.index, demand_over_month[\"renterTripsTaken\"], color='tab:orange', label='Windspeed')\n",
    "plt.xlabel(\"Month\")\n",
    "plt.ylabel(\"Number of Trips\")\n",
    "plt.show()"
   ]
  },
  {
   "cell_type": "markdown",
   "metadata": {
    "id": "w_pwcaNvuD2q"
   },
   "source": [
    "# Model building"
   ]
  },
  {
   "cell_type": "markdown",
   "metadata": {
    "id": "-ILtuGKCXks2"
   },
   "source": [
    "### Use k-means clustering to create different car categories"
   ]
  },
  {
   "cell_type": "code",
   "execution_count": 32,
   "metadata": {
    "colab": {
     "base_uri": "https://localhost:8080/",
     "height": 487
    },
    "id": "jnndvyr7X1oX",
    "outputId": "12888dad-2521-49f5-f875-c86c2f120858"
   },
   "outputs": [
    {
     "data": {
      "text/html": [
       "<div>\n",
       "<style scoped>\n",
       "    .dataframe tbody tr th:only-of-type {\n",
       "        vertical-align: middle;\n",
       "    }\n",
       "\n",
       "    .dataframe tbody tr th {\n",
       "        vertical-align: top;\n",
       "    }\n",
       "\n",
       "    .dataframe thead th {\n",
       "        text-align: right;\n",
       "    }\n",
       "</style>\n",
       "<table border=\"1\" class=\"dataframe\">\n",
       "  <thead>\n",
       "    <tr style=\"text-align: right;\">\n",
       "      <th></th>\n",
       "      <th>rating</th>\n",
       "      <th>reviewCount</th>\n",
       "      <th>averageDailyPrice</th>\n",
       "      <th>scalar</th>\n",
       "      <th>make</th>\n",
       "      <th>year</th>\n",
       "      <th>type</th>\n",
       "      <th>automaticTransmission</th>\n",
       "      <th>listingyear</th>\n",
       "    </tr>\n",
       "  </thead>\n",
       "  <tbody>\n",
       "    <tr>\n",
       "      <th>2</th>\n",
       "      <td>4.873181</td>\n",
       "      <td>0</td>\n",
       "      <td>40</td>\n",
       "      <td>5</td>\n",
       "      <td>Chevrolet</td>\n",
       "      <td>2014</td>\n",
       "      <td>car</td>\n",
       "      <td>True</td>\n",
       "      <td>2017</td>\n",
       "    </tr>\n",
       "    <tr>\n",
       "      <th>3</th>\n",
       "      <td>3.750000</td>\n",
       "      <td>5</td>\n",
       "      <td>99</td>\n",
       "      <td>19</td>\n",
       "      <td>BMW</td>\n",
       "      <td>2006</td>\n",
       "      <td>car</td>\n",
       "      <td>True</td>\n",
       "      <td>2017</td>\n",
       "    </tr>\n",
       "    <tr>\n",
       "      <th>10</th>\n",
       "      <td>5.000000</td>\n",
       "      <td>13</td>\n",
       "      <td>252</td>\n",
       "      <td>3</td>\n",
       "      <td>Tesla</td>\n",
       "      <td>2017</td>\n",
       "      <td>car</td>\n",
       "      <td>True</td>\n",
       "      <td>2017</td>\n",
       "    </tr>\n",
       "    <tr>\n",
       "      <th>11</th>\n",
       "      <td>5.000000</td>\n",
       "      <td>4</td>\n",
       "      <td>84</td>\n",
       "      <td>7</td>\n",
       "      <td>Ford</td>\n",
       "      <td>2007</td>\n",
       "      <td>car</td>\n",
       "      <td>True</td>\n",
       "      <td>2017</td>\n",
       "    </tr>\n",
       "    <tr>\n",
       "      <th>15</th>\n",
       "      <td>4.888900</td>\n",
       "      <td>28</td>\n",
       "      <td>119</td>\n",
       "      <td>14</td>\n",
       "      <td>GMC</td>\n",
       "      <td>2016</td>\n",
       "      <td>suv</td>\n",
       "      <td>True</td>\n",
       "      <td>2017</td>\n",
       "    </tr>\n",
       "    <tr>\n",
       "      <th>...</th>\n",
       "      <td>...</td>\n",
       "      <td>...</td>\n",
       "      <td>...</td>\n",
       "      <td>...</td>\n",
       "      <td>...</td>\n",
       "      <td>...</td>\n",
       "      <td>...</td>\n",
       "      <td>...</td>\n",
       "      <td>...</td>\n",
       "    </tr>\n",
       "    <tr>\n",
       "      <th>36269</th>\n",
       "      <td>5.000000</td>\n",
       "      <td>5</td>\n",
       "      <td>60</td>\n",
       "      <td>2</td>\n",
       "      <td>Ford</td>\n",
       "      <td>2014</td>\n",
       "      <td>truck</td>\n",
       "      <td>True</td>\n",
       "      <td>2017</td>\n",
       "    </tr>\n",
       "    <tr>\n",
       "      <th>36271</th>\n",
       "      <td>5.000000</td>\n",
       "      <td>12</td>\n",
       "      <td>50</td>\n",
       "      <td>3</td>\n",
       "      <td>Honda</td>\n",
       "      <td>2012</td>\n",
       "      <td>car</td>\n",
       "      <td>True</td>\n",
       "      <td>2017</td>\n",
       "    </tr>\n",
       "    <tr>\n",
       "      <th>36272</th>\n",
       "      <td>5.000000</td>\n",
       "      <td>5</td>\n",
       "      <td>38</td>\n",
       "      <td>14</td>\n",
       "      <td>Jeep</td>\n",
       "      <td>2012</td>\n",
       "      <td>suv</td>\n",
       "      <td>True</td>\n",
       "      <td>2017</td>\n",
       "    </tr>\n",
       "    <tr>\n",
       "      <th>36273</th>\n",
       "      <td>5.000000</td>\n",
       "      <td>2</td>\n",
       "      <td>53</td>\n",
       "      <td>14</td>\n",
       "      <td>Ford</td>\n",
       "      <td>2013</td>\n",
       "      <td>truck</td>\n",
       "      <td>True</td>\n",
       "      <td>2017</td>\n",
       "    </tr>\n",
       "    <tr>\n",
       "      <th>36274</th>\n",
       "      <td>4.873181</td>\n",
       "      <td>0</td>\n",
       "      <td>84</td>\n",
       "      <td>13</td>\n",
       "      <td>Cadillac</td>\n",
       "      <td>2007</td>\n",
       "      <td>suv</td>\n",
       "      <td>True</td>\n",
       "      <td>2017</td>\n",
       "    </tr>\n",
       "  </tbody>\n",
       "</table>\n",
       "<p>12330 rows × 9 columns</p>\n",
       "</div>"
      ],
      "text/plain": [
       "         rating  reviewCount  averageDailyPrice  scalar       make  year  \\\n",
       "2      4.873181            0                 40       5  Chevrolet  2014   \n",
       "3      3.750000            5                 99      19        BMW  2006   \n",
       "10     5.000000           13                252       3      Tesla  2017   \n",
       "11     5.000000            4                 84       7       Ford  2007   \n",
       "15     4.888900           28                119      14        GMC  2016   \n",
       "...         ...          ...                ...     ...        ...   ...   \n",
       "36269  5.000000            5                 60       2       Ford  2014   \n",
       "36271  5.000000           12                 50       3      Honda  2012   \n",
       "36272  5.000000            5                 38      14       Jeep  2012   \n",
       "36273  5.000000            2                 53      14       Ford  2013   \n",
       "36274  4.873181            0                 84      13   Cadillac  2007   \n",
       "\n",
       "        type  automaticTransmission  listingyear  \n",
       "2        car                   True         2017  \n",
       "3        car                   True         2017  \n",
       "10       car                   True         2017  \n",
       "11       car                   True         2017  \n",
       "15       suv                   True         2017  \n",
       "...      ...                    ...          ...  \n",
       "36269  truck                   True         2017  \n",
       "36271    car                   True         2017  \n",
       "36272    suv                   True         2017  \n",
       "36273  truck                   True         2017  \n",
       "36274    suv                   True         2017  \n",
       "\n",
       "[12330 rows x 9 columns]"
      ]
     },
     "execution_count": 32,
     "metadata": {},
     "output_type": "execute_result"
    }
   ],
   "source": [
    "# Every year the demand looks different and 2017 has fairly large sample size, \n",
    "# so we focus on the 2017 data.\n",
    "# Only keep the variables that are related to car itself: \n",
    "# Drop the geographical information like city, state, longitude and latitude. \n",
    "# Drop deliveryLabel because this column has only one meaningful value. \n",
    "# Drop the time variable such as listingyear, month and listingCreatedTime\n",
    "# to strip the seasonality information \n",
    "# Drop renterTripsTaken, responserate, newListing, freeDeliveryPromotion, \n",
    "# instantBookDisplayed, year, population and model(600+ unique values, meaningless)\n",
    "\n",
    "df_2017 = Turo[Turo[\"listingyear\"] == 2017]\n",
    "df_2017 = df_2017.drop(['renterTripsTaken','responseRate','newListing','freeDeliveryPromotion',\n",
    "                        'instantBookDisplayed','city','state','deliveryLabel','id', 'listingCreatedTime',\n",
    "                       'listingmonth', 'longitude', 'latitude',\n",
    "                      'listingCreatedDate','model','population'], axis=1)\n",
    "df_2017"
   ]
  },
  {
   "cell_type": "code",
   "execution_count": 33,
   "metadata": {
    "id": "cruWeOJ6H9y2"
   },
   "outputs": [],
   "source": [
    "# Create new feature age_before_listing representing how long the car has been \n",
    "# used before listed\n",
    "df_2017['age_before_listing']=df_2017['listingyear']-df_2017['year']\n",
    "df_2017 = df_2017.drop(['listingyear'], axis = 1)\n",
    "df_2017 = df_2017.drop(['year'], axis = 1)"
   ]
  },
  {
   "cell_type": "code",
   "execution_count": 34,
   "metadata": {
    "colab": {
     "base_uri": "https://localhost:8080/",
     "height": 487
    },
    "id": "9CZLMLxFCO3M",
    "outputId": "f39c5987-75fb-489b-a818-9251bb51f305"
   },
   "outputs": [
    {
     "data": {
      "text/html": [
       "<div>\n",
       "<style scoped>\n",
       "    .dataframe tbody tr th:only-of-type {\n",
       "        vertical-align: middle;\n",
       "    }\n",
       "\n",
       "    .dataframe tbody tr th {\n",
       "        vertical-align: top;\n",
       "    }\n",
       "\n",
       "    .dataframe thead th {\n",
       "        text-align: right;\n",
       "    }\n",
       "</style>\n",
       "<table border=\"1\" class=\"dataframe\">\n",
       "  <thead>\n",
       "    <tr style=\"text-align: right;\">\n",
       "      <th></th>\n",
       "      <th>rating</th>\n",
       "      <th>reviewCount</th>\n",
       "      <th>averageDailyPrice</th>\n",
       "      <th>scalar</th>\n",
       "      <th>make</th>\n",
       "      <th>type</th>\n",
       "      <th>automaticTransmission</th>\n",
       "      <th>age_before_listing</th>\n",
       "      <th>Level</th>\n",
       "    </tr>\n",
       "  </thead>\n",
       "  <tbody>\n",
       "    <tr>\n",
       "      <th>0</th>\n",
       "      <td>4.873181</td>\n",
       "      <td>0</td>\n",
       "      <td>40</td>\n",
       "      <td>5</td>\n",
       "      <td>Chevrolet</td>\n",
       "      <td>car</td>\n",
       "      <td>True</td>\n",
       "      <td>3</td>\n",
       "      <td>Economy</td>\n",
       "    </tr>\n",
       "    <tr>\n",
       "      <th>1</th>\n",
       "      <td>3.750000</td>\n",
       "      <td>5</td>\n",
       "      <td>99</td>\n",
       "      <td>19</td>\n",
       "      <td>BMW</td>\n",
       "      <td>car</td>\n",
       "      <td>True</td>\n",
       "      <td>11</td>\n",
       "      <td>Economy</td>\n",
       "    </tr>\n",
       "    <tr>\n",
       "      <th>2</th>\n",
       "      <td>5.000000</td>\n",
       "      <td>13</td>\n",
       "      <td>252</td>\n",
       "      <td>3</td>\n",
       "      <td>Tesla</td>\n",
       "      <td>car</td>\n",
       "      <td>True</td>\n",
       "      <td>0</td>\n",
       "      <td>Good</td>\n",
       "    </tr>\n",
       "    <tr>\n",
       "      <th>3</th>\n",
       "      <td>5.000000</td>\n",
       "      <td>4</td>\n",
       "      <td>84</td>\n",
       "      <td>7</td>\n",
       "      <td>Ford</td>\n",
       "      <td>car</td>\n",
       "      <td>True</td>\n",
       "      <td>10</td>\n",
       "      <td>Economy</td>\n",
       "    </tr>\n",
       "    <tr>\n",
       "      <th>4</th>\n",
       "      <td>4.888900</td>\n",
       "      <td>28</td>\n",
       "      <td>119</td>\n",
       "      <td>14</td>\n",
       "      <td>GMC</td>\n",
       "      <td>suv</td>\n",
       "      <td>True</td>\n",
       "      <td>1</td>\n",
       "      <td>Good</td>\n",
       "    </tr>\n",
       "    <tr>\n",
       "      <th>...</th>\n",
       "      <td>...</td>\n",
       "      <td>...</td>\n",
       "      <td>...</td>\n",
       "      <td>...</td>\n",
       "      <td>...</td>\n",
       "      <td>...</td>\n",
       "      <td>...</td>\n",
       "      <td>...</td>\n",
       "      <td>...</td>\n",
       "    </tr>\n",
       "    <tr>\n",
       "      <th>12325</th>\n",
       "      <td>5.000000</td>\n",
       "      <td>5</td>\n",
       "      <td>60</td>\n",
       "      <td>2</td>\n",
       "      <td>Ford</td>\n",
       "      <td>truck</td>\n",
       "      <td>True</td>\n",
       "      <td>3</td>\n",
       "      <td>Economy</td>\n",
       "    </tr>\n",
       "    <tr>\n",
       "      <th>12326</th>\n",
       "      <td>5.000000</td>\n",
       "      <td>12</td>\n",
       "      <td>50</td>\n",
       "      <td>3</td>\n",
       "      <td>Honda</td>\n",
       "      <td>car</td>\n",
       "      <td>True</td>\n",
       "      <td>5</td>\n",
       "      <td>Economy</td>\n",
       "    </tr>\n",
       "    <tr>\n",
       "      <th>12327</th>\n",
       "      <td>5.000000</td>\n",
       "      <td>5</td>\n",
       "      <td>38</td>\n",
       "      <td>14</td>\n",
       "      <td>Jeep</td>\n",
       "      <td>suv</td>\n",
       "      <td>True</td>\n",
       "      <td>5</td>\n",
       "      <td>Economy</td>\n",
       "    </tr>\n",
       "    <tr>\n",
       "      <th>12328</th>\n",
       "      <td>5.000000</td>\n",
       "      <td>2</td>\n",
       "      <td>53</td>\n",
       "      <td>14</td>\n",
       "      <td>Ford</td>\n",
       "      <td>truck</td>\n",
       "      <td>True</td>\n",
       "      <td>4</td>\n",
       "      <td>Economy</td>\n",
       "    </tr>\n",
       "    <tr>\n",
       "      <th>12329</th>\n",
       "      <td>4.873181</td>\n",
       "      <td>0</td>\n",
       "      <td>84</td>\n",
       "      <td>13</td>\n",
       "      <td>Cadillac</td>\n",
       "      <td>suv</td>\n",
       "      <td>True</td>\n",
       "      <td>10</td>\n",
       "      <td>Luxury</td>\n",
       "    </tr>\n",
       "  </tbody>\n",
       "</table>\n",
       "<p>12330 rows × 9 columns</p>\n",
       "</div>"
      ],
      "text/plain": [
       "         rating  reviewCount  averageDailyPrice  scalar       make   type  \\\n",
       "0      4.873181            0                 40       5  Chevrolet    car   \n",
       "1      3.750000            5                 99      19        BMW    car   \n",
       "2      5.000000           13                252       3      Tesla    car   \n",
       "3      5.000000            4                 84       7       Ford    car   \n",
       "4      4.888900           28                119      14        GMC    suv   \n",
       "...         ...          ...                ...     ...        ...    ...   \n",
       "12325  5.000000            5                 60       2       Ford  truck   \n",
       "12326  5.000000           12                 50       3      Honda    car   \n",
       "12327  5.000000            5                 38      14       Jeep    suv   \n",
       "12328  5.000000            2                 53      14       Ford  truck   \n",
       "12329  4.873181            0                 84      13   Cadillac    suv   \n",
       "\n",
       "       automaticTransmission  age_before_listing    Level  \n",
       "0                       True                   3  Economy  \n",
       "1                       True                  11  Economy  \n",
       "2                       True                   0     Good  \n",
       "3                       True                  10  Economy  \n",
       "4                       True                   1     Good  \n",
       "...                      ...                 ...      ...  \n",
       "12325                   True                   3  Economy  \n",
       "12326                   True                   5  Economy  \n",
       "12327                   True                   5  Economy  \n",
       "12328                   True                   4  Economy  \n",
       "12329                   True                  10   Luxury  \n",
       "\n",
       "[12330 rows x 9 columns]"
      ]
     },
     "execution_count": 34,
     "metadata": {},
     "output_type": "execute_result"
    }
   ],
   "source": [
    "# create new feature brand level\n",
    "df_2017=df_2017.merge(level, how='left', on='make')\n",
    "df_2017.head()\n",
    "df_2017"
   ]
  },
  {
   "cell_type": "code",
   "execution_count": 35,
   "metadata": {
    "colab": {
     "base_uri": "https://localhost:8080/"
    },
    "id": "f-z0MHKDM9-c",
    "outputId": "db17360e-e810-4ea9-e2fd-8df20f500fe1"
   },
   "outputs": [
    {
     "name": "stdout",
     "output_type": "stream",
     "text": [
      "car        8110\n",
      "suv        3214\n",
      "minivan     490\n",
      "truck       483\n",
      "van          33\n",
      "Name: type, dtype: int64\n",
      "car        8110\n",
      "suv        3214\n",
      "minivan     523\n",
      "truck       483\n",
      "Name: type, dtype: int64\n"
     ]
    }
   ],
   "source": [
    "print(df_2017['type'].astype('category').value_counts())\n",
    "# combine van and minivan since van only has 33 records\n",
    "df_2017['type'] = df_2017['type'].replace(['van'],'minivan')\n",
    "print(df_2017['type'].astype('category').value_counts())"
   ]
  },
  {
   "cell_type": "code",
   "execution_count": 36,
   "metadata": {
    "colab": {
     "base_uri": "https://localhost:8080/",
     "height": 487
    },
    "id": "7PmhQ_XsbgWo",
    "outputId": "d56e8d4e-f5f0-44c7-cbf1-22b05d467768"
   },
   "outputs": [
    {
     "name": "stderr",
     "output_type": "stream",
     "text": [
      "C:\\Users\\HP\\anaconda3\\lib\\site-packages\\pandas\\core\\ops\\array_ops.py:253: FutureWarning: elementwise comparison failed; returning scalar instead, but in the future will perform elementwise comparison\n",
      "  res_values = method(rvalues)\n"
     ]
    },
    {
     "data": {
      "text/html": [
       "<div>\n",
       "<style scoped>\n",
       "    .dataframe tbody tr th:only-of-type {\n",
       "        vertical-align: middle;\n",
       "    }\n",
       "\n",
       "    .dataframe tbody tr th {\n",
       "        vertical-align: top;\n",
       "    }\n",
       "\n",
       "    .dataframe thead th {\n",
       "        text-align: right;\n",
       "    }\n",
       "</style>\n",
       "<table border=\"1\" class=\"dataframe\">\n",
       "  <thead>\n",
       "    <tr style=\"text-align: right;\">\n",
       "      <th></th>\n",
       "      <th>rating</th>\n",
       "      <th>reviewCount</th>\n",
       "      <th>averageDailyPrice</th>\n",
       "      <th>scalar</th>\n",
       "      <th>type</th>\n",
       "      <th>automaticTransmission</th>\n",
       "      <th>age_before_listing</th>\n",
       "      <th>Level</th>\n",
       "    </tr>\n",
       "  </thead>\n",
       "  <tbody>\n",
       "    <tr>\n",
       "      <th>0</th>\n",
       "      <td>4.873181</td>\n",
       "      <td>0</td>\n",
       "      <td>40</td>\n",
       "      <td>5</td>\n",
       "      <td>1</td>\n",
       "      <td>0</td>\n",
       "      <td>3</td>\n",
       "      <td>1</td>\n",
       "    </tr>\n",
       "    <tr>\n",
       "      <th>1</th>\n",
       "      <td>3.750000</td>\n",
       "      <td>5</td>\n",
       "      <td>99</td>\n",
       "      <td>19</td>\n",
       "      <td>1</td>\n",
       "      <td>0</td>\n",
       "      <td>11</td>\n",
       "      <td>1</td>\n",
       "    </tr>\n",
       "    <tr>\n",
       "      <th>2</th>\n",
       "      <td>5.000000</td>\n",
       "      <td>13</td>\n",
       "      <td>252</td>\n",
       "      <td>3</td>\n",
       "      <td>1</td>\n",
       "      <td>0</td>\n",
       "      <td>0</td>\n",
       "      <td>2</td>\n",
       "    </tr>\n",
       "    <tr>\n",
       "      <th>3</th>\n",
       "      <td>5.000000</td>\n",
       "      <td>4</td>\n",
       "      <td>84</td>\n",
       "      <td>7</td>\n",
       "      <td>1</td>\n",
       "      <td>0</td>\n",
       "      <td>10</td>\n",
       "      <td>1</td>\n",
       "    </tr>\n",
       "    <tr>\n",
       "      <th>4</th>\n",
       "      <td>4.888900</td>\n",
       "      <td>28</td>\n",
       "      <td>119</td>\n",
       "      <td>14</td>\n",
       "      <td>4</td>\n",
       "      <td>0</td>\n",
       "      <td>1</td>\n",
       "      <td>2</td>\n",
       "    </tr>\n",
       "    <tr>\n",
       "      <th>...</th>\n",
       "      <td>...</td>\n",
       "      <td>...</td>\n",
       "      <td>...</td>\n",
       "      <td>...</td>\n",
       "      <td>...</td>\n",
       "      <td>...</td>\n",
       "      <td>...</td>\n",
       "      <td>...</td>\n",
       "    </tr>\n",
       "    <tr>\n",
       "      <th>12325</th>\n",
       "      <td>5.000000</td>\n",
       "      <td>5</td>\n",
       "      <td>60</td>\n",
       "      <td>2</td>\n",
       "      <td>3</td>\n",
       "      <td>0</td>\n",
       "      <td>3</td>\n",
       "      <td>1</td>\n",
       "    </tr>\n",
       "    <tr>\n",
       "      <th>12326</th>\n",
       "      <td>5.000000</td>\n",
       "      <td>12</td>\n",
       "      <td>50</td>\n",
       "      <td>3</td>\n",
       "      <td>1</td>\n",
       "      <td>0</td>\n",
       "      <td>5</td>\n",
       "      <td>1</td>\n",
       "    </tr>\n",
       "    <tr>\n",
       "      <th>12327</th>\n",
       "      <td>5.000000</td>\n",
       "      <td>5</td>\n",
       "      <td>38</td>\n",
       "      <td>14</td>\n",
       "      <td>4</td>\n",
       "      <td>0</td>\n",
       "      <td>5</td>\n",
       "      <td>1</td>\n",
       "    </tr>\n",
       "    <tr>\n",
       "      <th>12328</th>\n",
       "      <td>5.000000</td>\n",
       "      <td>2</td>\n",
       "      <td>53</td>\n",
       "      <td>14</td>\n",
       "      <td>3</td>\n",
       "      <td>0</td>\n",
       "      <td>4</td>\n",
       "      <td>1</td>\n",
       "    </tr>\n",
       "    <tr>\n",
       "      <th>12329</th>\n",
       "      <td>4.873181</td>\n",
       "      <td>0</td>\n",
       "      <td>84</td>\n",
       "      <td>13</td>\n",
       "      <td>4</td>\n",
       "      <td>0</td>\n",
       "      <td>10</td>\n",
       "      <td>3</td>\n",
       "    </tr>\n",
       "  </tbody>\n",
       "</table>\n",
       "<p>12330 rows × 8 columns</p>\n",
       "</div>"
      ],
      "text/plain": [
       "         rating  reviewCount  averageDailyPrice  scalar  type  \\\n",
       "0      4.873181            0                 40       5     1   \n",
       "1      3.750000            5                 99      19     1   \n",
       "2      5.000000           13                252       3     1   \n",
       "3      5.000000            4                 84       7     1   \n",
       "4      4.888900           28                119      14     4   \n",
       "...         ...          ...                ...     ...   ...   \n",
       "12325  5.000000            5                 60       2     3   \n",
       "12326  5.000000           12                 50       3     1   \n",
       "12327  5.000000            5                 38      14     4   \n",
       "12328  5.000000            2                 53      14     3   \n",
       "12329  4.873181            0                 84      13     4   \n",
       "\n",
       "       automaticTransmission  age_before_listing  Level  \n",
       "0                          0                   3      1  \n",
       "1                          0                  11      1  \n",
       "2                          0                   0      2  \n",
       "3                          0                  10      1  \n",
       "4                          0                   1      2  \n",
       "...                      ...                 ...    ...  \n",
       "12325                      0                   3      1  \n",
       "12326                      0                   5      1  \n",
       "12327                      0                   5      1  \n",
       "12328                      0                   4      1  \n",
       "12329                      0                  10      3  \n",
       "\n",
       "[12330 rows x 8 columns]"
      ]
     },
     "execution_count": 36,
     "metadata": {},
     "output_type": "execute_result"
    }
   ],
   "source": [
    "X = df_2017\n",
    "# Encoding binomial data\n",
    "X['automaticTransmission'] = (np.where(X['automaticTransmission'] == 'True', 1,0 ))\n",
    "\n",
    "# Encoding categorical variable: type\n",
    "cleanup_type = {\"type\":   {\"car\": 1, \"minivan\": 2, 'truck': 3, 'suv':4}}\n",
    "X = X.replace(cleanup_type)\n",
    "\n",
    "# Encoding categorical variable: level\n",
    "cleanup_level = {\"Level\":   {\"Economy\": 1, \"Good\": 2, 'Luxury': 3}}\n",
    "X = X.replace(cleanup_level)\n",
    "X = X.drop('make', axis = 1)\n",
    "X"
   ]
  },
  {
   "cell_type": "markdown",
   "metadata": {},
   "source": [
    "To determine the optimal number of categories generated by k-means clustering, we computed the Within-Cluster-Sum of Squared Errors for different values of k to obtain the SSE-k scree plot. The KneeLocator function shows that k = 3 was the optimal classification parameter. "
   ]
  },
  {
   "cell_type": "code",
   "execution_count": 37,
   "metadata": {
    "id": "h7p6NfMDcZMs"
   },
   "outputs": [],
   "source": [
    "from sklearn.cluster import KMeans\n",
    "from sklearn.metrics import silhouette_score\n",
    "from sklearn.preprocessing import StandardScaler\n"
   ]
  },
  {
   "cell_type": "code",
   "execution_count": 38,
   "metadata": {
    "id": "C9kvkNtExWsf"
   },
   "outputs": [],
   "source": [
    "# Scale the data before fitting k-means\n",
    "# In general, attribute scaling is important to be applied with K-means. \n",
    "# Most of the time, the standard Euclidean distance is used (as a distance \n",
    "# function of K-means) with the assumption that the attributes are normalized.\n",
    "scaler = StandardScaler()\n",
    "scaled_features = scaler.fit_transform(X)\n"
   ]
  },
  {
   "cell_type": "markdown",
   "metadata": {
    "id": "ec6OhiJkSqve"
   },
   "source": [
    "## Choose K with the elbow method"
   ]
  },
  {
   "cell_type": "code",
   "execution_count": 39,
   "metadata": {
    "colab": {
     "base_uri": "https://localhost:8080/",
     "height": 296
    },
    "id": "M29a-16U9sTR",
    "outputId": "6323d48e-e6f2-43cc-a13a-60cbd90b8c58"
   },
   "outputs": [
    {
     "data": {
      "image/png": "[encoded data removed]",
      "text/plain": [
       "<Figure size 432x288 with 1 Axes>"
      ]
     },
     "metadata": {},
     "output_type": "display_data"
    }
   ],
   "source": [
    "# calculate SSE for a range of number of cluster\n",
    "SSE_list = []\n",
    "for i in range(1, 11):\n",
    "    km = KMeans(\n",
    "        n_clusters=i, init='random',\n",
    "        n_init=10, max_iter=300,\n",
    "        tol=1e-04, random_state=0\n",
    "    )\n",
    "    km.fit(X)\n",
    "    SSE_list.append(km.inertia_)\n",
    "\n",
    "# Elbow method to choose the optimal k\n",
    "plt.plot(range(1, 11), SSE_list, marker='o')\n",
    "plt.xlabel('Number of clusters')\n",
    "plt.ylabel('SSE')\n",
    "plt.show()\n"
   ]
  },
  {
   "cell_type": "code",
   "execution_count": 41,
   "metadata": {
    "colab": {
     "base_uri": "https://localhost:8080/"
    },
    "id": "S5ioW0BSRPpK",
    "outputId": "c737ccc2-9970-4866-984f-f2323dc1410c"
   },
   "outputs": [
    {
     "name": "stdout",
     "output_type": "stream",
     "text": [
      "Collecting kneed\n",
      "  Downloading kneed-0.7.0-py2.py3-none-any.whl (9.4 kB)\n",
      "Requirement already satisfied: scipy in c:\\users\\hp\\anaconda3\\lib\\site-packages (from kneed) (1.5.0)\n",
      "Requirement already satisfied: numpy>=1.14.2 in c:\\users\\hp\\anaconda3\\lib\\site-packages (from kneed) (1.18.5)\n",
      "Requirement already satisfied: matplotlib in c:\\users\\hp\\anaconda3\\lib\\site-packages (from kneed) (3.2.2)\n",
      "Requirement already satisfied: kiwisolver>=1.0.1 in c:\\users\\hp\\anaconda3\\lib\\site-packages (from matplotlib->kneed) (1.2.0)\n",
      "Requirement already satisfied: pyparsing!=2.0.4,!=2.1.2,!=2.1.6,>=2.0.1 in c:\\users\\hp\\anaconda3\\lib\\site-packages (from matplotlib->kneed) (2.4.7)\n",
      "Requirement already satisfied: cycler>=0.10 in c:\\users\\hp\\anaconda3\\lib\\site-packages (from matplotlib->kneed) (0.10.0)\n",
      "Requirement already satisfied: python-dateutil>=2.1 in c:\\users\\hp\\anaconda3\\lib\\site-packages (from matplotlib->kneed) (2.8.1)\n",
      "Requirement already satisfied: six in c:\\users\\hp\\anaconda3\\lib\\site-packages (from cycler>=0.10->matplotlib->kneed) (1.15.0)\n",
      "Installing collected packages: kneed\n",
      "Successfully installed kneed-0.7.0\n",
      "Note: you may need to restart the kernel to use updated packages.\n"
     ]
    }
   ],
   "source": [
    "pip install kneed"
   ]
  },
  {
   "cell_type": "code",
   "execution_count": 42,
   "metadata": {
    "colab": {
     "base_uri": "https://localhost:8080/"
    },
    "id": "y9wETiUZRNcy",
    "outputId": "b5c49db2-382b-4db7-9fc5-3dc6da2d1245"
   },
   "outputs": [
    {
     "name": "stdout",
     "output_type": "stream",
     "text": [
      "3\n"
     ]
    }
   ],
   "source": [
    "# Using the b   elbow method, we chose 3 as the number of clusters\n",
    "from kneed import KneeLocator\n",
    "kl = KneeLocator(\n",
    "   range(1, 11), SSE_list, curve=\"convex\", direction=\"decreasing\"\n",
    "   )\n",
    "print(kl.elbow)"
   ]
  },
  {
   "cell_type": "markdown",
   "metadata": {
    "id": "Hj0D3f5RSwrf"
   },
   "source": [
    "### Create three clusters with K-means"
   ]
  },
  {
   "cell_type": "code",
   "execution_count": 43,
   "metadata": {
    "id": "7L0LVpyCR5ny"
   },
   "outputs": [],
   "source": [
    "# Fit k means with the number of clusters = 3\n",
    "kmeans = KMeans(n_clusters=3)\n",
    "\n",
    "# Label the data with 0, 1 and 2\n",
    "y_kmeans = kmeans.fit_predict(scaled_features)"
   ]
  },
  {
   "cell_type": "code",
   "execution_count": 44,
   "metadata": {
    "colab": {
     "base_uri": "https://localhost:8080/",
     "height": 487
    },
    "id": "0XnotWekSIxS",
    "outputId": "81e64e8b-779f-4c96-c39b-f771e4948006"
   },
   "outputs": [
    {
     "data": {
      "text/html": [
       "<div>\n",
       "<style scoped>\n",
       "    .dataframe tbody tr th:only-of-type {\n",
       "        vertical-align: middle;\n",
       "    }\n",
       "\n",
       "    .dataframe tbody tr th {\n",
       "        vertical-align: top;\n",
       "    }\n",
       "\n",
       "    .dataframe thead th {\n",
       "        text-align: right;\n",
       "    }\n",
       "</style>\n",
       "<table border=\"1\" class=\"dataframe\">\n",
       "  <thead>\n",
       "    <tr style=\"text-align: right;\">\n",
       "      <th></th>\n",
       "      <th>rating</th>\n",
       "      <th>reviewCount</th>\n",
       "      <th>averageDailyPrice</th>\n",
       "      <th>scalar</th>\n",
       "      <th>type</th>\n",
       "      <th>automaticTransmission</th>\n",
       "      <th>age_before_listing</th>\n",
       "      <th>Level</th>\n",
       "      <th>Predict</th>\n",
       "    </tr>\n",
       "  </thead>\n",
       "  <tbody>\n",
       "    <tr>\n",
       "      <th>0</th>\n",
       "      <td>4.873181</td>\n",
       "      <td>0</td>\n",
       "      <td>40</td>\n",
       "      <td>5</td>\n",
       "      <td>1</td>\n",
       "      <td>0</td>\n",
       "      <td>3</td>\n",
       "      <td>1</td>\n",
       "      <td>1</td>\n",
       "    </tr>\n",
       "    <tr>\n",
       "      <th>1</th>\n",
       "      <td>3.750000</td>\n",
       "      <td>5</td>\n",
       "      <td>99</td>\n",
       "      <td>19</td>\n",
       "      <td>1</td>\n",
       "      <td>0</td>\n",
       "      <td>11</td>\n",
       "      <td>1</td>\n",
       "      <td>1</td>\n",
       "    </tr>\n",
       "    <tr>\n",
       "      <th>2</th>\n",
       "      <td>5.000000</td>\n",
       "      <td>13</td>\n",
       "      <td>252</td>\n",
       "      <td>3</td>\n",
       "      <td>1</td>\n",
       "      <td>0</td>\n",
       "      <td>0</td>\n",
       "      <td>2</td>\n",
       "      <td>1</td>\n",
       "    </tr>\n",
       "    <tr>\n",
       "      <th>3</th>\n",
       "      <td>5.000000</td>\n",
       "      <td>4</td>\n",
       "      <td>84</td>\n",
       "      <td>7</td>\n",
       "      <td>1</td>\n",
       "      <td>0</td>\n",
       "      <td>10</td>\n",
       "      <td>1</td>\n",
       "      <td>1</td>\n",
       "    </tr>\n",
       "    <tr>\n",
       "      <th>4</th>\n",
       "      <td>4.888900</td>\n",
       "      <td>28</td>\n",
       "      <td>119</td>\n",
       "      <td>14</td>\n",
       "      <td>4</td>\n",
       "      <td>0</td>\n",
       "      <td>1</td>\n",
       "      <td>2</td>\n",
       "      <td>2</td>\n",
       "    </tr>\n",
       "    <tr>\n",
       "      <th>...</th>\n",
       "      <td>...</td>\n",
       "      <td>...</td>\n",
       "      <td>...</td>\n",
       "      <td>...</td>\n",
       "      <td>...</td>\n",
       "      <td>...</td>\n",
       "      <td>...</td>\n",
       "      <td>...</td>\n",
       "      <td>...</td>\n",
       "    </tr>\n",
       "    <tr>\n",
       "      <th>12325</th>\n",
       "      <td>5.000000</td>\n",
       "      <td>5</td>\n",
       "      <td>60</td>\n",
       "      <td>2</td>\n",
       "      <td>3</td>\n",
       "      <td>0</td>\n",
       "      <td>3</td>\n",
       "      <td>1</td>\n",
       "      <td>2</td>\n",
       "    </tr>\n",
       "    <tr>\n",
       "      <th>12326</th>\n",
       "      <td>5.000000</td>\n",
       "      <td>12</td>\n",
       "      <td>50</td>\n",
       "      <td>3</td>\n",
       "      <td>1</td>\n",
       "      <td>0</td>\n",
       "      <td>5</td>\n",
       "      <td>1</td>\n",
       "      <td>1</td>\n",
       "    </tr>\n",
       "    <tr>\n",
       "      <th>12327</th>\n",
       "      <td>5.000000</td>\n",
       "      <td>5</td>\n",
       "      <td>38</td>\n",
       "      <td>14</td>\n",
       "      <td>4</td>\n",
       "      <td>0</td>\n",
       "      <td>5</td>\n",
       "      <td>1</td>\n",
       "      <td>2</td>\n",
       "    </tr>\n",
       "    <tr>\n",
       "      <th>12328</th>\n",
       "      <td>5.000000</td>\n",
       "      <td>2</td>\n",
       "      <td>53</td>\n",
       "      <td>14</td>\n",
       "      <td>3</td>\n",
       "      <td>0</td>\n",
       "      <td>4</td>\n",
       "      <td>1</td>\n",
       "      <td>2</td>\n",
       "    </tr>\n",
       "    <tr>\n",
       "      <th>12329</th>\n",
       "      <td>4.873181</td>\n",
       "      <td>0</td>\n",
       "      <td>84</td>\n",
       "      <td>13</td>\n",
       "      <td>4</td>\n",
       "      <td>0</td>\n",
       "      <td>10</td>\n",
       "      <td>3</td>\n",
       "      <td>2</td>\n",
       "    </tr>\n",
       "  </tbody>\n",
       "</table>\n",
       "<p>12330 rows × 9 columns</p>\n",
       "</div>"
      ],
      "text/plain": [
       "         rating  reviewCount  averageDailyPrice  scalar  type  \\\n",
       "0      4.873181            0                 40       5     1   \n",
       "1      3.750000            5                 99      19     1   \n",
       "2      5.000000           13                252       3     1   \n",
       "3      5.000000            4                 84       7     1   \n",
       "4      4.888900           28                119      14     4   \n",
       "...         ...          ...                ...     ...   ...   \n",
       "12325  5.000000            5                 60       2     3   \n",
       "12326  5.000000           12                 50       3     1   \n",
       "12327  5.000000            5                 38      14     4   \n",
       "12328  5.000000            2                 53      14     3   \n",
       "12329  4.873181            0                 84      13     4   \n",
       "\n",
       "       automaticTransmission  age_before_listing  Level  Predict  \n",
       "0                          0                   3      1        1  \n",
       "1                          0                  11      1        1  \n",
       "2                          0                   0      2        1  \n",
       "3                          0                  10      1        1  \n",
       "4                          0                   1      2        2  \n",
       "...                      ...                 ...    ...      ...  \n",
       "12325                      0                   3      1        2  \n",
       "12326                      0                   5      1        1  \n",
       "12327                      0                   5      1        2  \n",
       "12328                      0                   4      1        2  \n",
       "12329                      0                  10      3        2  \n",
       "\n",
       "[12330 rows x 9 columns]"
      ]
     },
     "execution_count": 44,
     "metadata": {},
     "output_type": "execute_result"
    }
   ],
   "source": [
    "result = pd.DataFrame(y_kmeans)\n",
    "result = result.rename(columns={0: 'Predict'})\n",
    "# Combine the result with the original dataset\n",
    "X_pred = pd.concat([X,result],axis=1)\n",
    "X_pred"
   ]
  },
  {
   "cell_type": "code",
   "execution_count": 45,
   "metadata": {
    "colab": {
     "base_uri": "https://localhost:8080/"
    },
    "id": "P-XlVl96SRMX",
    "outputId": "1aac6760-cab3-4be2-b0f1-043248d366b2"
   },
   "outputs": [
    {
     "data": {
      "text/plain": [
       "1    6738\n",
       "2    3509\n",
       "0    2083\n",
       "Name: Predict, dtype: int64"
      ]
     },
     "execution_count": 45,
     "metadata": {},
     "output_type": "execute_result"
    }
   ],
   "source": [
    "X_pred['Predict'].value_counts()"
   ]
  },
  {
   "cell_type": "code",
   "execution_count": 46,
   "metadata": {
    "colab": {
     "base_uri": "https://localhost:8080/",
     "height": 207
    },
    "id": "n0rBC2avTDiI",
    "outputId": "16b0ce67-ff14-4e02-c0f0-8c6e87f14123"
   },
   "outputs": [
    {
     "data": {
      "text/html": [
       "<div>\n",
       "<style scoped>\n",
       "    .dataframe tbody tr th:only-of-type {\n",
       "        vertical-align: middle;\n",
       "    }\n",
       "\n",
       "    .dataframe tbody tr th {\n",
       "        vertical-align: top;\n",
       "    }\n",
       "\n",
       "    .dataframe thead th {\n",
       "        text-align: right;\n",
       "    }\n",
       "</style>\n",
       "<table border=\"1\" class=\"dataframe\">\n",
       "  <thead>\n",
       "    <tr style=\"text-align: right;\">\n",
       "      <th></th>\n",
       "      <th>rating</th>\n",
       "      <th>reviewCount</th>\n",
       "      <th>averageDailyPrice</th>\n",
       "      <th>scalar</th>\n",
       "      <th>type</th>\n",
       "      <th>automaticTransmission</th>\n",
       "      <th>age_before_listing</th>\n",
       "      <th>Level</th>\n",
       "    </tr>\n",
       "  </thead>\n",
       "  <tbody>\n",
       "    <tr>\n",
       "      <th>0</th>\n",
       "      <td>4.864703</td>\n",
       "      <td>46.254466</td>\n",
       "      <td>52.699179</td>\n",
       "      <td>6.015934</td>\n",
       "      <td>1.311444</td>\n",
       "      <td>0.0</td>\n",
       "      <td>3.802028</td>\n",
       "      <td>1.523419</td>\n",
       "    </tr>\n",
       "    <tr>\n",
       "      <th>1</th>\n",
       "      <td>4.859313</td>\n",
       "      <td>5.859280</td>\n",
       "      <td>115.336987</td>\n",
       "      <td>9.609095</td>\n",
       "      <td>1.062213</td>\n",
       "      <td>0.0</td>\n",
       "      <td>4.588950</td>\n",
       "      <td>1.677826</td>\n",
       "    </tr>\n",
       "    <tr>\n",
       "      <th>2</th>\n",
       "      <td>4.882605</td>\n",
       "      <td>8.153364</td>\n",
       "      <td>114.147092</td>\n",
       "      <td>9.230616</td>\n",
       "      <td>3.869441</td>\n",
       "      <td>0.0</td>\n",
       "      <td>3.159920</td>\n",
       "      <td>1.691562</td>\n",
       "    </tr>\n",
       "  </tbody>\n",
       "</table>\n",
       "</div>"
      ],
      "text/plain": [
       "     rating  reviewCount  averageDailyPrice    scalar      type  \\\n",
       "0  4.864703    46.254466          52.699179  6.015934  1.311444   \n",
       "1  4.859313     5.859280         115.336987  9.609095  1.062213   \n",
       "2  4.882605     8.153364         114.147092  9.230616  3.869441   \n",
       "\n",
       "   automaticTransmission  age_before_listing     Level  \n",
       "0                    0.0            3.802028  1.523419  \n",
       "1                    0.0            4.588950  1.677826  \n",
       "2                    0.0            3.159920  1.691562  "
      ]
     },
     "execution_count": 46,
     "metadata": {},
     "output_type": "execute_result"
    }
   ],
   "source": [
    "centers = pd.DataFrame(kmeans.cluster_centers_)\n",
    "names= X.columns\n",
    "centers = scaler.inverse_transform(centers)\n",
    "centers = pd.DataFrame(centers)\n",
    "centers.columns = names\n",
    "centers"
   ]
  },
  {
   "cell_type": "markdown",
   "metadata": {},
   "source": [
    "The algorithm clusters data points majorly by review count, average daily price, and car type. Based on the difference in cluster means, we labeled the clusters as Economy, Luxury and Spacious.  Category 0 is labeled as Economy since it has the lowest average daily price and highest review count. Category 1 is labeled as Luxury because of its high average daily price. Category 2 is labeled as Spacious due to its Type being larger than the other categories. We encoded car type with 1 for car, 2 for minivan, 3 for truck and 4 for SUV. The larger the value, the bigger the car.\n"
   ]
  },
  {
   "cell_type": "markdown",
   "metadata": {
    "id": "YAiXEZC-s3Be"
   },
   "source": [
    "### Build Regression Model to estimate the demand-price elasticity and predict the optimal price"
   ]
  },
  {
   "cell_type": "markdown",
   "metadata": {
    "id": "cngXS5Q7tEja"
   },
   "source": [
    "Y = number of trips\n",
    "\n",
    "X = average daliy price + rating + reviewCount + responseRate + age_before_listing + population + the number of available cars in the neighbourhood + listingmonth(seasonality)\n",
    "\n",
    "The number of available cars in the neighbourhood is created by aggregating the car listings within 10 miles"
   ]
  },
  {
   "cell_type": "code",
   "execution_count": 74,
   "metadata": {},
   "outputs": [
    {
     "name": "stderr",
     "output_type": "stream",
     "text": [
      "<ipython-input-74-515c1fd469a0>:4: SettingWithCopyWarning: \n",
      "A value is trying to be set on a copy of a slice from a DataFrame.\n",
      "Try using .loc[row_indexer,col_indexer] = value instead\n",
      "\n",
      "See the caveats in the documentation: https://pandas.pydata.org/pandas-docs/stable/user_guide/indexing.html#returning-a-view-versus-a-copy\n",
      "  turo_2017['long_range_low']= turo_2017['longitude']-0.14\n",
      "<ipython-input-74-515c1fd469a0>:5: SettingWithCopyWarning: \n",
      "A value is trying to be set on a copy of a slice from a DataFrame.\n",
      "Try using .loc[row_indexer,col_indexer] = value instead\n",
      "\n",
      "See the caveats in the documentation: https://pandas.pydata.org/pandas-docs/stable/user_guide/indexing.html#returning-a-view-versus-a-copy\n",
      "  turo_2017['long_range_up']= turo_2017['longitude']+0.14\n",
      "<ipython-input-74-515c1fd469a0>:6: SettingWithCopyWarning: \n",
      "A value is trying to be set on a copy of a slice from a DataFrame.\n",
      "Try using .loc[row_indexer,col_indexer] = value instead\n",
      "\n",
      "See the caveats in the documentation: https://pandas.pydata.org/pandas-docs/stable/user_guide/indexing.html#returning-a-view-versus-a-copy\n",
      "  turo_2017['lat_range_low']= turo_2017['latitude']-0.14\n",
      "<ipython-input-74-515c1fd469a0>:7: SettingWithCopyWarning: \n",
      "A value is trying to be set on a copy of a slice from a DataFrame.\n",
      "Try using .loc[row_indexer,col_indexer] = value instead\n",
      "\n",
      "See the caveats in the documentation: https://pandas.pydata.org/pandas-docs/stable/user_guide/indexing.html#returning-a-view-versus-a-copy\n",
      "  turo_2017['lat_range_up']= turo_2017['latitude']+0.14\n"
     ]
    },
    {
     "data": {
      "text/html": [
       "<div>\n",
       "<style scoped>\n",
       "    .dataframe tbody tr th:only-of-type {\n",
       "        vertical-align: middle;\n",
       "    }\n",
       "\n",
       "    .dataframe tbody tr th {\n",
       "        vertical-align: top;\n",
       "    }\n",
       "\n",
       "    .dataframe thead th {\n",
       "        text-align: right;\n",
       "    }\n",
       "</style>\n",
       "<table border=\"1\" class=\"dataframe\">\n",
       "  <thead>\n",
       "    <tr style=\"text-align: right;\">\n",
       "      <th></th>\n",
       "      <th>rating</th>\n",
       "      <th>renterTripsTaken</th>\n",
       "      <th>reviewCount</th>\n",
       "      <th>responseRate</th>\n",
       "      <th>newListing</th>\n",
       "      <th>freeDeliveryPromotion</th>\n",
       "      <th>instantBookDisplayed</th>\n",
       "      <th>deliveryLabel</th>\n",
       "      <th>averageDailyPrice</th>\n",
       "      <th>scalar</th>\n",
       "      <th>...</th>\n",
       "      <th>type</th>\n",
       "      <th>automaticTransmission</th>\n",
       "      <th>listingyear</th>\n",
       "      <th>population</th>\n",
       "      <th>listingmonth</th>\n",
       "      <th>listingCreatedDate</th>\n",
       "      <th>long_range_low</th>\n",
       "      <th>long_range_up</th>\n",
       "      <th>lat_range_low</th>\n",
       "      <th>lat_range_up</th>\n",
       "    </tr>\n",
       "  </thead>\n",
       "  <tbody>\n",
       "    <tr>\n",
       "      <th>2</th>\n",
       "      <td>4.873181</td>\n",
       "      <td>0</td>\n",
       "      <td>0</td>\n",
       "      <td>0.0</td>\n",
       "      <td>False</td>\n",
       "      <td>False</td>\n",
       "      <td>True</td>\n",
       "      <td>NaN</td>\n",
       "      <td>40</td>\n",
       "      <td>5</td>\n",
       "      <td>...</td>\n",
       "      <td>car</td>\n",
       "      <td>True</td>\n",
       "      <td>2017</td>\n",
       "      <td>1817004</td>\n",
       "      <td>9</td>\n",
       "      <td>2017-09-14</td>\n",
       "      <td>-80.699747</td>\n",
       "      <td>-80.419747</td>\n",
       "      <td>40.211722</td>\n",
       "      <td>40.491722</td>\n",
       "    </tr>\n",
       "    <tr>\n",
       "      <th>3</th>\n",
       "      <td>3.750000</td>\n",
       "      <td>4</td>\n",
       "      <td>5</td>\n",
       "      <td>100.0</td>\n",
       "      <td>False</td>\n",
       "      <td>False</td>\n",
       "      <td>True</td>\n",
       "      <td>NaN</td>\n",
       "      <td>99</td>\n",
       "      <td>19</td>\n",
       "      <td>...</td>\n",
       "      <td>car</td>\n",
       "      <td>True</td>\n",
       "      <td>2017</td>\n",
       "      <td>12787641</td>\n",
       "      <td>11</td>\n",
       "      <td>2017-11-30</td>\n",
       "      <td>-80.362071</td>\n",
       "      <td>-80.082071</td>\n",
       "      <td>40.378838</td>\n",
       "      <td>40.658838</td>\n",
       "    </tr>\n",
       "    <tr>\n",
       "      <th>10</th>\n",
       "      <td>5.000000</td>\n",
       "      <td>13</td>\n",
       "      <td>13</td>\n",
       "      <td>100.0</td>\n",
       "      <td>False</td>\n",
       "      <td>True</td>\n",
       "      <td>True</td>\n",
       "      <td>FREE DELIVERY</td>\n",
       "      <td>252</td>\n",
       "      <td>3</td>\n",
       "      <td>...</td>\n",
       "      <td>car</td>\n",
       "      <td>True</td>\n",
       "      <td>2017</td>\n",
       "      <td>9973114</td>\n",
       "      <td>12</td>\n",
       "      <td>2017-12-29</td>\n",
       "      <td>-83.547713</td>\n",
       "      <td>-83.267713</td>\n",
       "      <td>42.631464</td>\n",
       "      <td>42.911464</td>\n",
       "    </tr>\n",
       "    <tr>\n",
       "      <th>11</th>\n",
       "      <td>5.000000</td>\n",
       "      <td>5</td>\n",
       "      <td>4</td>\n",
       "      <td>100.0</td>\n",
       "      <td>False</td>\n",
       "      <td>False</td>\n",
       "      <td>True</td>\n",
       "      <td>NaN</td>\n",
       "      <td>84</td>\n",
       "      <td>7</td>\n",
       "      <td>...</td>\n",
       "      <td>car</td>\n",
       "      <td>True</td>\n",
       "      <td>2017</td>\n",
       "      <td>9973114</td>\n",
       "      <td>6</td>\n",
       "      <td>2017-06-08</td>\n",
       "      <td>-83.439671</td>\n",
       "      <td>-83.159671</td>\n",
       "      <td>42.605824</td>\n",
       "      <td>42.885824</td>\n",
       "    </tr>\n",
       "    <tr>\n",
       "      <th>15</th>\n",
       "      <td>4.888900</td>\n",
       "      <td>38</td>\n",
       "      <td>28</td>\n",
       "      <td>100.0</td>\n",
       "      <td>False</td>\n",
       "      <td>False</td>\n",
       "      <td>True</td>\n",
       "      <td>NaN</td>\n",
       "      <td>119</td>\n",
       "      <td>14</td>\n",
       "      <td>...</td>\n",
       "      <td>suv</td>\n",
       "      <td>True</td>\n",
       "      <td>2017</td>\n",
       "      <td>9973114</td>\n",
       "      <td>6</td>\n",
       "      <td>2017-06-16</td>\n",
       "      <td>-83.605325</td>\n",
       "      <td>-83.325325</td>\n",
       "      <td>42.385521</td>\n",
       "      <td>42.665521</td>\n",
       "    </tr>\n",
       "  </tbody>\n",
       "</table>\n",
       "<p>5 rows × 29 columns</p>\n",
       "</div>"
      ],
      "text/plain": [
       "      rating  renterTripsTaken  reviewCount  responseRate  newListing  \\\n",
       "2   4.873181                 0            0           0.0       False   \n",
       "3   3.750000                 4            5         100.0       False   \n",
       "10  5.000000                13           13         100.0       False   \n",
       "11  5.000000                 5            4         100.0       False   \n",
       "15  4.888900                38           28         100.0       False   \n",
       "\n",
       "    freeDeliveryPromotion  instantBookDisplayed  deliveryLabel  \\\n",
       "2                   False                  True            NaN   \n",
       "3                   False                  True            NaN   \n",
       "10                   True                  True  FREE DELIVERY   \n",
       "11                  False                  True            NaN   \n",
       "15                  False                  True            NaN   \n",
       "\n",
       "    averageDailyPrice  scalar  ... type  automaticTransmission  listingyear  \\\n",
       "2                  40       5  ...  car                   True         2017   \n",
       "3                  99      19  ...  car                   True         2017   \n",
       "10                252       3  ...  car                   True         2017   \n",
       "11                 84       7  ...  car                   True         2017   \n",
       "15                119      14  ...  suv                   True         2017   \n",
       "\n",
       "   population listingmonth listingCreatedDate  long_range_low long_range_up  \\\n",
       "2     1817004            9         2017-09-14      -80.699747    -80.419747   \n",
       "3    12787641           11         2017-11-30      -80.362071    -80.082071   \n",
       "10    9973114           12         2017-12-29      -83.547713    -83.267713   \n",
       "11    9973114            6         2017-06-08      -83.439671    -83.159671   \n",
       "15    9973114            6         2017-06-16      -83.605325    -83.325325   \n",
       "\n",
       "    lat_range_low lat_range_up  \n",
       "2       40.211722    40.491722  \n",
       "3       40.378838    40.658838  \n",
       "10      42.631464    42.911464  \n",
       "11      42.605824    42.885824  \n",
       "15      42.385521    42.665521  \n",
       "\n",
       "[5 rows x 29 columns]"
      ]
     },
     "execution_count": 74,
     "metadata": {},
     "output_type": "execute_result"
    }
   ],
   "source": [
    "turo_2017 = Turo[Turo[\"listingyear\"] == 2017]\n",
    "### the number of available cars in the neighbourhood \n",
    "### We take the range of [-10,10] around the longitude latitude as the neighbourhood (nearby 10 miles cars)\n",
    "turo_2017['long_range_low']= turo_2017['longitude']-0.14\n",
    "turo_2017['long_range_up']= turo_2017['longitude']+0.14\n",
    "turo_2017['lat_range_low']= turo_2017['latitude']-0.14\n",
    "turo_2017['lat_range_up']= turo_2017['latitude']+0.14\n",
    "turo_2017.head()"
   ]
  },
  {
   "cell_type": "code",
   "execution_count": 119,
   "metadata": {},
   "outputs": [],
   "source": [
    "# Find number of cars in one car's neighbourhood\n",
    "#num_neighbour = list()\n",
    "#for j in range(len(turo_2017)):\n",
    "#    num_car = 0\n",
    "#    for i in range(len(turo_2017)):\n",
    "#         if (np.array(turo_2017['longitude'])[i] >= np.array(turo_2017['long_range_low'])[j]) == True and (np.array(turo_2017['longitude'])[i] <= np.array(turo_2017['long_range_up'])[j]) ==True and ( np.array(turo_2017['latitude'])[i] <= np.array(turo_2017['lat_range_low'])[j]) ==True and (np.array(turo_2017['latitude'])[i] <= np.array(turo_2017['lat_range_up'])[j]) ==True:\n",
    "#            num_car = num_car + 1\n",
    "    # print(j)\n",
    "#    num_neighbour.append(num_car)\n",
    "    \n",
    "#import timeit\n",
    "\n",
    "#start = timeit.default_timer()\n",
    "\n",
    "#Your statements here\n",
    "\n",
    "#stop = timeit.default_timer()\n",
    "\n",
    "#print('Time: ', stop - start)  "
   ]
  },
  {
   "cell_type": "code",
   "execution_count": 159,
   "metadata": {
    "colab": {
     "base_uri": "https://localhost:8080/",
     "height": 505
    },
    "id": "QYOAQV1ytiC-",
    "outputId": "79b01b16-c574-4250-d756-0c3f98c2b2f3"
   },
   "outputs": [
    {
     "data": {
      "text/html": [
       "<div>\n",
       "<style scoped>\n",
       "    .dataframe tbody tr th:only-of-type {\n",
       "        vertical-align: middle;\n",
       "    }\n",
       "\n",
       "    .dataframe tbody tr th {\n",
       "        vertical-align: top;\n",
       "    }\n",
       "\n",
       "    .dataframe thead th {\n",
       "        text-align: right;\n",
       "    }\n",
       "</style>\n",
       "<table border=\"1\" class=\"dataframe\">\n",
       "  <thead>\n",
       "    <tr style=\"text-align: right;\">\n",
       "      <th></th>\n",
       "      <th>rating</th>\n",
       "      <th>renterTripsTaken</th>\n",
       "      <th>reviewCount</th>\n",
       "      <th>responseRate</th>\n",
       "      <th>newListing</th>\n",
       "      <th>freeDeliveryPromotion</th>\n",
       "      <th>instantBookDisplayed</th>\n",
       "      <th>averageDailyPrice</th>\n",
       "      <th>scalar</th>\n",
       "      <th>automaticTransmission</th>\n",
       "      <th>population</th>\n",
       "      <th>age_before_listing</th>\n",
       "      <th>type_new</th>\n",
       "      <th>listingmonth</th>\n",
       "      <th>num_neigh</th>\n",
       "      <th>Predict</th>\n",
       "    </tr>\n",
       "  </thead>\n",
       "  <tbody>\n",
       "    <tr>\n",
       "      <th>0</th>\n",
       "      <td>4.873181</td>\n",
       "      <td>0</td>\n",
       "      <td>0</td>\n",
       "      <td>0</td>\n",
       "      <td>0</td>\n",
       "      <td>0</td>\n",
       "      <td>1</td>\n",
       "      <td>40</td>\n",
       "      <td>5</td>\n",
       "      <td>1</td>\n",
       "      <td>1817004</td>\n",
       "      <td>3</td>\n",
       "      <td>0</td>\n",
       "      <td>9</td>\n",
       "      <td>49</td>\n",
       "      <td>1</td>\n",
       "    </tr>\n",
       "    <tr>\n",
       "      <th>1</th>\n",
       "      <td>3.750000</td>\n",
       "      <td>4</td>\n",
       "      <td>5</td>\n",
       "      <td>100</td>\n",
       "      <td>0</td>\n",
       "      <td>0</td>\n",
       "      <td>1</td>\n",
       "      <td>99</td>\n",
       "      <td>19</td>\n",
       "      <td>1</td>\n",
       "      <td>12787641</td>\n",
       "      <td>11</td>\n",
       "      <td>0</td>\n",
       "      <td>11</td>\n",
       "      <td>797</td>\n",
       "      <td>1</td>\n",
       "    </tr>\n",
       "    <tr>\n",
       "      <th>2</th>\n",
       "      <td>5.000000</td>\n",
       "      <td>13</td>\n",
       "      <td>13</td>\n",
       "      <td>100</td>\n",
       "      <td>0</td>\n",
       "      <td>1</td>\n",
       "      <td>1</td>\n",
       "      <td>252</td>\n",
       "      <td>3</td>\n",
       "      <td>1</td>\n",
       "      <td>9973114</td>\n",
       "      <td>0</td>\n",
       "      <td>0</td>\n",
       "      <td>12</td>\n",
       "      <td>12</td>\n",
       "      <td>1</td>\n",
       "    </tr>\n",
       "    <tr>\n",
       "      <th>3</th>\n",
       "      <td>5.000000</td>\n",
       "      <td>5</td>\n",
       "      <td>4</td>\n",
       "      <td>100</td>\n",
       "      <td>0</td>\n",
       "      <td>0</td>\n",
       "      <td>1</td>\n",
       "      <td>84</td>\n",
       "      <td>7</td>\n",
       "      <td>1</td>\n",
       "      <td>9973114</td>\n",
       "      <td>10</td>\n",
       "      <td>0</td>\n",
       "      <td>6</td>\n",
       "      <td>8</td>\n",
       "      <td>1</td>\n",
       "    </tr>\n",
       "    <tr>\n",
       "      <th>4</th>\n",
       "      <td>4.888900</td>\n",
       "      <td>38</td>\n",
       "      <td>28</td>\n",
       "      <td>100</td>\n",
       "      <td>0</td>\n",
       "      <td>0</td>\n",
       "      <td>1</td>\n",
       "      <td>119</td>\n",
       "      <td>14</td>\n",
       "      <td>1</td>\n",
       "      <td>9973114</td>\n",
       "      <td>1</td>\n",
       "      <td>2</td>\n",
       "      <td>6</td>\n",
       "      <td>12</td>\n",
       "      <td>2</td>\n",
       "    </tr>\n",
       "    <tr>\n",
       "      <th>...</th>\n",
       "      <td>...</td>\n",
       "      <td>...</td>\n",
       "      <td>...</td>\n",
       "      <td>...</td>\n",
       "      <td>...</td>\n",
       "      <td>...</td>\n",
       "      <td>...</td>\n",
       "      <td>...</td>\n",
       "      <td>...</td>\n",
       "      <td>...</td>\n",
       "      <td>...</td>\n",
       "      <td>...</td>\n",
       "      <td>...</td>\n",
       "      <td>...</td>\n",
       "      <td>...</td>\n",
       "      <td>...</td>\n",
       "    </tr>\n",
       "    <tr>\n",
       "      <th>12325</th>\n",
       "      <td>5.000000</td>\n",
       "      <td>7</td>\n",
       "      <td>5</td>\n",
       "      <td>100</td>\n",
       "      <td>0</td>\n",
       "      <td>1</td>\n",
       "      <td>1</td>\n",
       "      <td>60</td>\n",
       "      <td>2</td>\n",
       "      <td>1</td>\n",
       "      <td>7423362</td>\n",
       "      <td>3</td>\n",
       "      <td>3</td>\n",
       "      <td>8</td>\n",
       "      <td>267</td>\n",
       "      <td>2</td>\n",
       "    </tr>\n",
       "    <tr>\n",
       "      <th>12326</th>\n",
       "      <td>5.000000</td>\n",
       "      <td>13</td>\n",
       "      <td>12</td>\n",
       "      <td>90</td>\n",
       "      <td>0</td>\n",
       "      <td>0</td>\n",
       "      <td>1</td>\n",
       "      <td>50</td>\n",
       "      <td>3</td>\n",
       "      <td>1</td>\n",
       "      <td>7423362</td>\n",
       "      <td>5</td>\n",
       "      <td>0</td>\n",
       "      <td>3</td>\n",
       "      <td>344</td>\n",
       "      <td>1</td>\n",
       "    </tr>\n",
       "    <tr>\n",
       "      <th>12327</th>\n",
       "      <td>5.000000</td>\n",
       "      <td>7</td>\n",
       "      <td>5</td>\n",
       "      <td>100</td>\n",
       "      <td>0</td>\n",
       "      <td>1</td>\n",
       "      <td>1</td>\n",
       "      <td>38</td>\n",
       "      <td>14</td>\n",
       "      <td>1</td>\n",
       "      <td>7423362</td>\n",
       "      <td>5</td>\n",
       "      <td>2</td>\n",
       "      <td>12</td>\n",
       "      <td>272</td>\n",
       "      <td>2</td>\n",
       "    </tr>\n",
       "    <tr>\n",
       "      <th>12328</th>\n",
       "      <td>5.000000</td>\n",
       "      <td>4</td>\n",
       "      <td>2</td>\n",
       "      <td>100</td>\n",
       "      <td>0</td>\n",
       "      <td>0</td>\n",
       "      <td>0</td>\n",
       "      <td>53</td>\n",
       "      <td>14</td>\n",
       "      <td>1</td>\n",
       "      <td>7423362</td>\n",
       "      <td>4</td>\n",
       "      <td>3</td>\n",
       "      <td>5</td>\n",
       "      <td>272</td>\n",
       "      <td>2</td>\n",
       "    </tr>\n",
       "    <tr>\n",
       "      <th>12329</th>\n",
       "      <td>4.873181</td>\n",
       "      <td>0</td>\n",
       "      <td>0</td>\n",
       "      <td>0</td>\n",
       "      <td>0</td>\n",
       "      <td>0</td>\n",
       "      <td>1</td>\n",
       "      <td>84</td>\n",
       "      <td>13</td>\n",
       "      <td>1</td>\n",
       "      <td>7423362</td>\n",
       "      <td>10</td>\n",
       "      <td>2</td>\n",
       "      <td>3</td>\n",
       "      <td>263</td>\n",
       "      <td>2</td>\n",
       "    </tr>\n",
       "  </tbody>\n",
       "</table>\n",
       "<p>12330 rows × 16 columns</p>\n",
       "</div>"
      ],
      "text/plain": [
       "         rating  renterTripsTaken  reviewCount  responseRate  newListing  \\\n",
       "0      4.873181                 0            0             0           0   \n",
       "1      3.750000                 4            5           100           0   \n",
       "2      5.000000                13           13           100           0   \n",
       "3      5.000000                 5            4           100           0   \n",
       "4      4.888900                38           28           100           0   \n",
       "...         ...               ...          ...           ...         ...   \n",
       "12325  5.000000                 7            5           100           0   \n",
       "12326  5.000000                13           12            90           0   \n",
       "12327  5.000000                 7            5           100           0   \n",
       "12328  5.000000                 4            2           100           0   \n",
       "12329  4.873181                 0            0             0           0   \n",
       "\n",
       "       freeDeliveryPromotion  instantBookDisplayed  averageDailyPrice  scalar  \\\n",
       "0                          0                     1                 40       5   \n",
       "1                          0                     1                 99      19   \n",
       "2                          1                     1                252       3   \n",
       "3                          0                     1                 84       7   \n",
       "4                          0                     1                119      14   \n",
       "...                      ...                   ...                ...     ...   \n",
       "12325                      1                     1                 60       2   \n",
       "12326                      0                     1                 50       3   \n",
       "12327                      1                     1                 38      14   \n",
       "12328                      0                     0                 53      14   \n",
       "12329                      0                     1                 84      13   \n",
       "\n",
       "       automaticTransmission  population  age_before_listing  type_new  \\\n",
       "0                          1     1817004                   3         0   \n",
       "1                          1    12787641                  11         0   \n",
       "2                          1     9973114                   0         0   \n",
       "3                          1     9973114                  10         0   \n",
       "4                          1     9973114                   1         2   \n",
       "...                      ...         ...                 ...       ...   \n",
       "12325                      1     7423362                   3         3   \n",
       "12326                      1     7423362                   5         0   \n",
       "12327                      1     7423362                   5         2   \n",
       "12328                      1     7423362                   4         3   \n",
       "12329                      1     7423362                  10         2   \n",
       "\n",
       "       listingmonth  num_neigh  Predict  \n",
       "0                 9         49        1  \n",
       "1                11        797        1  \n",
       "2                12         12        1  \n",
       "3                 6          8        1  \n",
       "4                 6         12        2  \n",
       "...             ...        ...      ...  \n",
       "12325             8        267        2  \n",
       "12326             3        344        1  \n",
       "12327            12        272        2  \n",
       "12328             5        272        2  \n",
       "12329             3        263        2  \n",
       "\n",
       "[12330 rows x 16 columns]"
      ]
     },
     "execution_count": 159,
     "metadata": {},
     "output_type": "execute_result"
    }
   ],
   "source": [
    "# import regress_x3 dataset which contains the num_neigh column \n",
    "Regress_X3 = pd.read_csv('Regress_X3.csv')\n",
    "Regress_X3 = pd.concat([Regress_X3,X_pred['Predict']],axis=1)\n",
    "Regress_X3"
   ]
  },
  {
   "cell_type": "code",
   "execution_count": 160,
   "metadata": {
    "colab": {
     "base_uri": "https://localhost:8080/",
     "height": 287
    },
    "id": "5IAiGHDYuwmu",
    "outputId": "a383ba35-a0e1-4f6e-dcad-22da8cdbcb4f"
   },
   "outputs": [
    {
     "data": {
      "text/html": [
       "<div>\n",
       "<style scoped>\n",
       "    .dataframe tbody tr th:only-of-type {\n",
       "        vertical-align: middle;\n",
       "    }\n",
       "\n",
       "    .dataframe tbody tr th {\n",
       "        vertical-align: top;\n",
       "    }\n",
       "\n",
       "    .dataframe thead th {\n",
       "        text-align: right;\n",
       "    }\n",
       "</style>\n",
       "<table border=\"1\" class=\"dataframe\">\n",
       "  <thead>\n",
       "    <tr style=\"text-align: right;\">\n",
       "      <th></th>\n",
       "      <th>rating</th>\n",
       "      <th>renterTripsTaken</th>\n",
       "      <th>reviewCount</th>\n",
       "      <th>responseRate</th>\n",
       "      <th>newListing</th>\n",
       "      <th>freeDeliveryPromotion</th>\n",
       "      <th>instantBookDisplayed</th>\n",
       "      <th>averageDailyPrice</th>\n",
       "      <th>scalar</th>\n",
       "      <th>automaticTransmission</th>\n",
       "      <th>population</th>\n",
       "      <th>age_before_listing</th>\n",
       "      <th>type_new</th>\n",
       "      <th>listingmonth</th>\n",
       "      <th>num_neigh</th>\n",
       "      <th>Predict</th>\n",
       "    </tr>\n",
       "  </thead>\n",
       "  <tbody>\n",
       "    <tr>\n",
       "      <th>17</th>\n",
       "      <td>5.0000</td>\n",
       "      <td>57</td>\n",
       "      <td>53</td>\n",
       "      <td>100</td>\n",
       "      <td>0</td>\n",
       "      <td>0</td>\n",
       "      <td>1</td>\n",
       "      <td>59</td>\n",
       "      <td>10</td>\n",
       "      <td>1</td>\n",
       "      <td>1424393</td>\n",
       "      <td>5</td>\n",
       "      <td>2</td>\n",
       "      <td>1</td>\n",
       "      <td>10</td>\n",
       "      <td>0</td>\n",
       "    </tr>\n",
       "    <tr>\n",
       "      <th>18</th>\n",
       "      <td>4.9714</td>\n",
       "      <td>37</td>\n",
       "      <td>35</td>\n",
       "      <td>100</td>\n",
       "      <td>0</td>\n",
       "      <td>0</td>\n",
       "      <td>1</td>\n",
       "      <td>34</td>\n",
       "      <td>11</td>\n",
       "      <td>1</td>\n",
       "      <td>1424393</td>\n",
       "      <td>6</td>\n",
       "      <td>0</td>\n",
       "      <td>11</td>\n",
       "      <td>17</td>\n",
       "      <td>0</td>\n",
       "    </tr>\n",
       "    <tr>\n",
       "      <th>20</th>\n",
       "      <td>4.6563</td>\n",
       "      <td>35</td>\n",
       "      <td>32</td>\n",
       "      <td>100</td>\n",
       "      <td>0</td>\n",
       "      <td>1</td>\n",
       "      <td>0</td>\n",
       "      <td>42</td>\n",
       "      <td>11</td>\n",
       "      <td>1</td>\n",
       "      <td>1424393</td>\n",
       "      <td>5</td>\n",
       "      <td>0</td>\n",
       "      <td>9</td>\n",
       "      <td>11</td>\n",
       "      <td>0</td>\n",
       "    </tr>\n",
       "    <tr>\n",
       "      <th>53</th>\n",
       "      <td>4.9500</td>\n",
       "      <td>46</td>\n",
       "      <td>41</td>\n",
       "      <td>100</td>\n",
       "      <td>0</td>\n",
       "      <td>0</td>\n",
       "      <td>1</td>\n",
       "      <td>37</td>\n",
       "      <td>14</td>\n",
       "      <td>1</td>\n",
       "      <td>6106670</td>\n",
       "      <td>9</td>\n",
       "      <td>0</td>\n",
       "      <td>10</td>\n",
       "      <td>33</td>\n",
       "      <td>0</td>\n",
       "    </tr>\n",
       "    <tr>\n",
       "      <th>56</th>\n",
       "      <td>4.9375</td>\n",
       "      <td>41</td>\n",
       "      <td>33</td>\n",
       "      <td>100</td>\n",
       "      <td>0</td>\n",
       "      <td>0</td>\n",
       "      <td>0</td>\n",
       "      <td>40</td>\n",
       "      <td>11</td>\n",
       "      <td>1</td>\n",
       "      <td>624344</td>\n",
       "      <td>7</td>\n",
       "      <td>0</td>\n",
       "      <td>4</td>\n",
       "      <td>0</td>\n",
       "      <td>0</td>\n",
       "    </tr>\n",
       "  </tbody>\n",
       "</table>\n",
       "</div>"
      ],
      "text/plain": [
       "    rating  renterTripsTaken  reviewCount  responseRate  newListing  \\\n",
       "17  5.0000                57           53           100           0   \n",
       "18  4.9714                37           35           100           0   \n",
       "20  4.6563                35           32           100           0   \n",
       "53  4.9500                46           41           100           0   \n",
       "56  4.9375                41           33           100           0   \n",
       "\n",
       "    freeDeliveryPromotion  instantBookDisplayed  averageDailyPrice  scalar  \\\n",
       "17                      0                     1                 59      10   \n",
       "18                      0                     1                 34      11   \n",
       "20                      1                     0                 42      11   \n",
       "53                      0                     1                 37      14   \n",
       "56                      0                     0                 40      11   \n",
       "\n",
       "    automaticTransmission  population  age_before_listing  type_new  \\\n",
       "17                      1     1424393                   5         2   \n",
       "18                      1     1424393                   6         0   \n",
       "20                      1     1424393                   5         0   \n",
       "53                      1     6106670                   9         0   \n",
       "56                      1      624344                   7         0   \n",
       "\n",
       "    listingmonth  num_neigh  Predict  \n",
       "17             1         10        0  \n",
       "18            11         17        0  \n",
       "20             9         11        0  \n",
       "53            10         33        0  \n",
       "56             4          0        0  "
      ]
     },
     "execution_count": 160,
     "metadata": {},
     "output_type": "execute_result"
    }
   ],
   "source": [
    "## Class 1- Economy\n",
    "class1= Regress_X3[Regress_X3['Predict']==0]\n",
    "class1.head()"
   ]
  },
  {
   "cell_type": "code",
   "execution_count": 201,
   "metadata": {},
   "outputs": [
    {
     "data": {
      "image/png": "[encoded data removed]",
      "text/plain": [
       "<Figure size 432x288 with 1 Axes>"
      ]
     },
     "metadata": {},
     "output_type": "display_data"
    }
   ],
   "source": [
    "plt.hist(class1['averageDailyPrice'],bins=100)\n",
    "plt.show() \n"
   ]
  },
  {
   "cell_type": "code",
   "execution_count": 214,
   "metadata": {},
   "outputs": [
    {
     "data": {
      "image/png": "[encoded data removed]",
      "text/plain": [
       "<Figure size 432x288 with 1 Axes>"
      ]
     },
     "metadata": {},
     "output_type": "display_data"
    }
   ],
   "source": [
    "plt.scatter(class1['averageDailyPrice'], class1['renterTripsTaken'])\n",
    "plt.xlabel(\"AVG Daily Price\")\n",
    "plt.ylabel(\"Number of Trips\")\n",
    "plt.show()"
   ]
  },
  {
   "cell_type": "code",
   "execution_count": 226,
   "metadata": {},
   "outputs": [
    {
     "name": "stdout",
     "output_type": "stream",
     "text": [
      "                                 OLS Regression Results                                 \n",
      "========================================================================================\n",
      "Dep. Variable:     np.log(renterTripsTaken + 1)   R-squared:                       0.878\n",
      "Model:                                      OLS   Adj. R-squared:                  0.877\n",
      "Method:                           Least Squares   F-statistic:                     1858.\n",
      "Date:                          Mon, 28 Mar 2022   Prob (F-statistic):               0.00\n",
      "Time:                                  21:00:14   Log-Likelihood:                 1013.1\n",
      "No. Observations:                          2083   AIC:                            -2008.\n",
      "Df Residuals:                              2074   BIC:                            -1958.\n",
      "Df Model:                                     8                                         \n",
      "Covariance Type:                      nonrobust                                         \n",
      "=============================================================================================\n",
      "                                coef    std err          t      P>|t|      [0.025      0.975]\n",
      "---------------------------------------------------------------------------------------------\n",
      "Intercept                     3.8471      0.137     27.983      0.000       3.577       4.117\n",
      "rating                       -0.1978      0.023     -8.715      0.000      -0.242      -0.153\n",
      "reviewCount                   0.0183      0.000    110.264      0.000       0.018       0.019\n",
      "responseRate                  0.0021      0.001      2.424      0.015       0.000       0.004\n",
      "age_before_listing            0.0045      0.001      4.534      0.000       0.003       0.006\n",
      "population                 8.355e-10   2.85e-10      2.932      0.003    2.77e-10    1.39e-09\n",
      "listingmonth                 -0.0043      0.001     -3.860      0.000      -0.006      -0.002\n",
      "num_neigh                  2.279e-05   8.96e-06      2.544      0.011    5.22e-06    4.04e-05\n",
      "np.log(averageDailyPrice)    -0.0108      0.007     -1.585      0.113      -0.024       0.003\n",
      "==============================================================================\n",
      "Omnibus:                      401.435   Durbin-Watson:                   1.620\n",
      "Prob(Omnibus):                  0.000   Jarque-Bera (JB):             1150.970\n",
      "Skew:                          -0.996   Prob(JB):                    1.17e-250\n",
      "Kurtosis:                       6.049   Cond. No.                     1.14e+09\n",
      "==============================================================================\n",
      "\n",
      "Warnings:\n",
      "[1] Standard Errors assume that the covariance matrix of the errors is correctly specified.\n",
      "[2] The condition number is large, 1.14e+09. This might indicate that there are\n",
      "strong multicollinearity or other numerical problems.\n"
     ]
    }
   ],
   "source": [
    "import statsmodels.api as sm\n",
    "import statsmodels.formula.api as smf\n",
    "### Economy\n",
    "class1=Regress_X3[Regress_X3['Predict']==0]\n",
    "class1.head()\n",
    "X_1=class1.drop(['Predict'], axis=1)\n",
    "# add 1 to rentertripstaken because log 0 is undefined\n",
    "model1 = smf.ols('np.log(renterTripsTaken+1) ~  rating + reviewCount + responseRate + age_before_listing + population + listingmonth + num_neigh +np.log(averageDailyPrice)', data=X_1).fit()\n",
    "print(model1.summary())"
   ]
  },
  {
   "cell_type": "code",
   "execution_count": 223,
   "metadata": {
    "colab": {
     "base_uri": "https://localhost:8080/"
    },
    "id": "KxR2Z5D3Eb8d",
    "outputId": "044da103-5917-467a-a8fe-8dfd997c4f7a"
   },
   "outputs": [
    {
     "data": {
      "text/plain": [
       "Intercept                    3.987594e+00\n",
       "rating                      -2.009162e-01\n",
       "responseRate                 1.257730e-02\n",
       "age_before_listing          -2.536107e-03\n",
       "population                   2.864786e-12\n",
       "listingmonth                -5.048508e-02\n",
       "num_neigh                    3.446338e-05\n",
       "np.log(averageDailyPrice)   -3.312817e-04\n",
       "dtype: float64"
      ]
     },
     "execution_count": 223,
     "metadata": {},
     "output_type": "execute_result"
    }
   ],
   "source": [
    "model1.params"
   ]
  },
  {
   "cell_type": "code",
   "execution_count": 279,
   "metadata": {},
   "outputs": [],
   "source": [
    "# Create demand function\n",
    "def demand_model1(price, rating,responseRate,reviewCount,age_before_listing,population,listingmonth, num_neigh ):\n",
    "    demand = np.exp(model1.params[0] +  model1.params[1] * rating + model1.params[2] * reviewCount +  \n",
    "                   model1.params[3] * responseRate + model1.params[4]* age_before_listing +\n",
    "                   model1.params[5] * population + model1.params[6]* listingmonth   + \n",
    "                                   model1.params[7]* num_neigh + model1.params[-1] * np.log(price))\n",
    "\n",
    "    return demand\n",
    "\n"
   ]
  },
  {
   "cell_type": "code",
   "execution_count": 280,
   "metadata": {
    "colab": {
     "base_uri": "https://localhost:8080/",
     "height": 413
    },
    "id": "Eh_4pDRLEhA8",
    "outputId": "fc10d1d2-deb0-44b4-8920-d5c6fdce6f7b"
   },
   "outputs": [
    {
     "data": {
      "text/plain": [
       "Text(0, 0.5, 'Number of Trips')"
      ]
     },
     "execution_count": 280,
     "metadata": {},
     "output_type": "execute_result"
    },
    {
     "data": {
      "image/png": "[encoded data removed]",
      "text/plain": [
       "<Figure size 432x288 with 1 Axes>"
      ]
     },
     "metadata": {},
     "output_type": "display_data"
    }
   ],
   "source": [
    "# Predict demand for a listing with rating = 5, reviewcount = 0, responserate = 100, age_before_listing = 1, population = 1424393,\n",
    "# listingmonth = 5, num_neigh = 10, price from min avgdailyprice to max avgdailyprice\n",
    "\n",
    "demand_list = list()\n",
    "for price in class1['averageDailyPrice']:\n",
    "    demand_list.append(demand_model1(price, 5,100,10,1,1424393,5,10))\n",
    "\n",
    "plt.scatter(class1['averageDailyPrice'], demand_list)\n",
    "plt.xlabel(\"AverageDailyPrice\")\n",
    "plt.ylabel(\"Number of Trips\")"
   ]
  },
  {
   "cell_type": "code",
   "execution_count": 274,
   "metadata": {
    "colab": {
     "base_uri": "https://localhost:8080/",
     "height": 413
    },
    "id": "E_xu7dN-fhSW",
    "outputId": "bc652b86-24b4-40f7-f473-d328dc39e4c8"
   },
   "outputs": [],
   "source": [
    "# Class 1 revenue function\n",
    "def revenue_example(price):\n",
    "    # Demand * log(price) \n",
    "    # Take log of price to scale down the price so that the magnitude of price does not override demand when we multiplying them\n",
    "    # The change in demand is negligible (23.8-24.6) compared with price in the graph above. \n",
    "    # If we multiply demand by price, the revenue function would approximate linear, which means the higher the price, the larger \n",
    "    # the revenue, and we don't want that. \n",
    "    return np.exp(model1.params[0] +  model1.params[1] * 5 + model1.params[2] * 10 +  model1.params[3] * 100 + \n",
    "                                   model1.params[4]*1 + model1.params[5] * 1424393 + model1.params[6]* 5 + \n",
    "                                   model1.params[7]* 10 + model1.params[-1] * np.log(price))* np.log(price)* -1\n",
    "\n",
    "from scipy.optimize import minimize_scalar\n",
    "max_x = minimize_scalar(revenue_example, bounds=[min(class1['averageDailyPrice']),max(class1['averageDailyPrice'])]\n",
    "                        ,method='bounded')\n"
   ]
  },
  {
   "cell_type": "code",
   "execution_count": 275,
   "metadata": {},
   "outputs": [
    {
     "data": {
      "text/plain": [
       "     fun: -141.41166373058516\n",
       " message: 'Solution found.'\n",
       "    nfev: 35\n",
       "  status: 0\n",
       " success: True\n",
       "       x: 381.9999822616314"
      ]
     },
     "execution_count": 275,
     "metadata": {},
     "output_type": "execute_result"
    }
   ],
   "source": [
    "max_x"
   ]
  },
  {
   "cell_type": "code",
   "execution_count": 281,
   "metadata": {},
   "outputs": [
    {
     "data": {
      "text/plain": [
       "Text(0, 0.5, 'Revenue')"
      ]
     },
     "execution_count": 281,
     "metadata": {},
     "output_type": "execute_result"
    },
    {
     "data": {
      "image/png": "[encoded data removed]",
      "text/plain": [
       "<Figure size 432x288 with 1 Axes>"
      ]
     },
     "metadata": {},
     "output_type": "display_data"
    }
   ],
   "source": [
    "revenue_list = list()\n",
    "for price in  class1['averageDailyPrice']:\n",
    "    revenue_list.append(-1*revenue_example(price))\n",
    "plt.scatter(class1['averageDailyPrice'], revenue_list)\n",
    "plt.xlabel(\"AverageDailyPrice\")\n",
    "plt.ylabel(\"Revenue\")"
   ]
  },
  {
   "cell_type": "code",
   "execution_count": 115,
   "metadata": {
    "colab": {
     "base_uri": "https://localhost:8080/"
    },
    "id": "HNf1qAhJEq2c",
    "outputId": "b91f04c5-9bbd-4d85-d993-c8fcd30e95ed"
   },
   "outputs": [
    {
     "name": "stdout",
     "output_type": "stream",
     "text": [
      "                                 OLS Regression Results                                 \n",
      "========================================================================================\n",
      "Dep. Variable:     np.log(renterTripsTaken + 1)   R-squared:                       0.868\n",
      "Model:                                      OLS   Adj. R-squared:                  0.867\n",
      "Method:                           Least Squares   F-statistic:                     5509.\n",
      "Date:                          Mon, 28 Mar 2022   Prob (F-statistic):               0.00\n",
      "Time:                                  14:33:35   Log-Likelihood:                -4274.7\n",
      "No. Observations:                          6738   AIC:                             8567.\n",
      "Df Residuals:                              6729   BIC:                             8629.\n",
      "Df Model:                                     8                                         \n",
      "Covariance Type:                      nonrobust                                         \n",
      "=============================================================================================\n",
      "                                coef    std err          t      P>|t|      [0.025      0.975]\n",
      "---------------------------------------------------------------------------------------------\n",
      "Intercept                     0.3815      0.091      4.195      0.000       0.203       0.560\n",
      "rating                        0.0194      0.017      1.123      0.261      -0.014       0.053\n",
      "reviewCount                   0.1286      0.001    149.296      0.000       0.127       0.130\n",
      "responseRate                  0.0064      0.000     43.203      0.000       0.006       0.007\n",
      "age_before_listing           -0.0002      0.001     -0.252      0.801      -0.002       0.001\n",
      "population                 3.246e-10   4.66e-10      0.697      0.486   -5.89e-10    1.24e-09\n",
      "listingmonth                 -0.0022      0.002     -1.270      0.204      -0.006       0.001\n",
      "num_neigh                  3.335e-05   1.67e-05      1.995      0.046    5.78e-07    6.61e-05\n",
      "np.log(averageDailyPrice)    -0.0934      0.007    -12.837      0.000      -0.108      -0.079\n",
      "==============================================================================\n",
      "Omnibus:                      129.340   Durbin-Watson:                   1.906\n",
      "Prob(Omnibus):                  0.000   Jarque-Bera (JB):              137.480\n",
      "Skew:                          -0.333   Prob(JB):                     1.40e-30\n",
      "Kurtosis:                       3.217   Cond. No.                     4.05e+08\n",
      "==============================================================================\n",
      "\n",
      "Warnings:\n",
      "[1] Standard Errors assume that the covariance matrix of the errors is correctly specified.\n",
      "[2] The condition number is large, 4.05e+08. This might indicate that there are\n",
      "strong multicollinearity or other numerical problems.\n"
     ]
    }
   ],
   "source": [
    "### Class 2 - Luxuary\n",
    "class2=Regress_X3[Regress_X3['Predict']==1]\n",
    "X_2=class2.drop(['Predict'], axis=1)\n",
    "model3 = smf.ols('np.log(renterTripsTaken+1) ~ rating + reviewCount + responseRate + age_before_listing + population + listingmonth + num_neigh + np.log(averageDailyPrice)', data=X_2).fit()\n",
    "print(model3.summary())"
   ]
  },
  {
   "cell_type": "code",
   "execution_count": 256,
   "metadata": {
    "colab": {
     "base_uri": "https://localhost:8080/",
     "height": 415
    },
    "id": "q8458_ANEq5p",
    "outputId": "c4947454-91a7-40fc-f5f4-5e43e9c2af66"
   },
   "outputs": [
    {
     "name": "stderr",
     "output_type": "stream",
     "text": [
      "<ipython-input-256-4fcfa793120b>:5: SettingWithCopyWarning: \n",
      "A value is trying to be set on a copy of a slice from a DataFrame.\n",
      "Try using .loc[row_indexer,col_indexer] = value instead\n",
      "\n",
      "See the caveats in the documentation: https://pandas.pydata.org/pandas-docs/stable/user_guide/indexing.html#returning-a-view-versus-a-copy\n",
      "  class2['renterTripsTaken']= np.exp(model3.params[0] +  model3.params[1] * 5 + model3.params[2] * 10 +  model3.params[3] * 100 +  model3.params[4]*1\n"
     ]
    },
    {
     "data": {
      "text/plain": [
       "Text(0, 0.5, 'Number of Trips')"
      ]
     },
     "execution_count": 256,
     "metadata": {},
     "output_type": "execute_result"
    },
    {
     "data": {
      "image/png": "[encoded data removed]",
      "text/plain": [
       "<Figure size 432x288 with 1 Axes>"
      ]
     },
     "metadata": {},
     "output_type": "display_data"
    }
   ],
   "source": [
    "# class 2 demand curve\n",
    "class2['renterTripsTaken']= np.exp(model3.params[0] +  model3.params[1] * 5 + model3.params[2] * 10 +  model3.params[3] * 100 +  model3.params[4]*1\n",
    "    + model3.params[5] * 1424393 + model3.params[6]* 5 + model3.params[7]* 10 + model3.params[-1] * np.log(class2['averageDailyPrice']))\n",
    "plt.scatter(class2['averageDailyPrice'], class2['renterTripsTaken'])\n",
    "plt.xlabel(\"AaverageDailyPrice\")\n",
    "plt.ylabel(\"Number of Trips\")"
   ]
  },
  {
   "cell_type": "code",
   "execution_count": 261,
   "metadata": {},
   "outputs": [],
   "source": [
    "# Class 2 revenue function\n",
    "def revenue_example(price):\n",
    "    # Demand * log(price) \n",
    "    return np.exp(model2.params[0] +  model2.params[1] * 5 + model2.params[2] * 10 +  model2.params[3] * 100 + \n",
    "                                   model2.params[4]*1 + model2.params[5] * 1424393 + model2.params[6]* 5 + \n",
    "                                   model2.params[7]* 10 + model2.params[-1] * np.log(price))* np.log(price) * -1\n",
    "\n",
    "from scipy.optimize import minimize_scalar\n",
    "max_x = minimize_scalar(revenue_example, bounds=[min(class2['averageDailyPrice']),max(class2['averageDailyPrice'])],method='bounded')"
   ]
  },
  {
   "cell_type": "code",
   "execution_count": 262,
   "metadata": {},
   "outputs": [
    {
     "data": {
      "text/plain": [
       "     fun: -45.5168378496016\n",
       " message: 'Solution found.'\n",
       "    nfev: 36\n",
       "  status: 0\n",
       " success: True\n",
       "       x: 1007.9999702264009"
      ]
     },
     "execution_count": 262,
     "metadata": {},
     "output_type": "execute_result"
    }
   ],
   "source": [
    "max_x"
   ]
  },
  {
   "cell_type": "code",
   "execution_count": 282,
   "metadata": {},
   "outputs": [
    {
     "data": {
      "text/plain": [
       "Text(0, 0.5, 'Revenue')"
      ]
     },
     "execution_count": 282,
     "metadata": {},
     "output_type": "execute_result"
    },
    {
     "data": {
      "image/png": "[encoded data removed]",
      "text/plain": [
       "<Figure size 432x288 with 1 Axes>"
      ]
     },
     "metadata": {},
     "output_type": "display_data"
    }
   ],
   "source": [
    "\n",
    "revenue_list = list()\n",
    "for price in  class2['averageDailyPrice']:\n",
    "    revenue_list.append(revenue_example(price)*-1)\n",
    "plt.scatter(class2['averageDailyPrice'], revenue_list)\n",
    "plt.xlabel(\"AverageDailyPrice\")\n",
    "plt.ylabel(\"Revenue\")"
   ]
  },
  {
   "cell_type": "code",
   "execution_count": 284,
   "metadata": {
    "colab": {
     "base_uri": "https://localhost:8080/"
    },
    "id": "EruOy0lHEq8V",
    "outputId": "0eae11c9-0958-4f2f-f9f1-267ddab4b393"
   },
   "outputs": [
    {
     "name": "stdout",
     "output_type": "stream",
     "text": [
      "                                 OLS Regression Results                                 \n",
      "========================================================================================\n",
      "Dep. Variable:     np.log(renterTripsTaken + 1)   R-squared:                       0.849\n",
      "Model:                                      OLS   Adj. R-squared:                  0.849\n",
      "Method:                           Least Squares   F-statistic:                     2465.\n",
      "Date:                          Tue, 29 Mar 2022   Prob (F-statistic):               0.00\n",
      "Time:                                  12:08:00   Log-Likelihood:                -2714.1\n",
      "No. Observations:                          3509   AIC:                             5446.\n",
      "Df Residuals:                              3500   BIC:                             5502.\n",
      "Df Model:                                     8                                         \n",
      "Covariance Type:                      nonrobust                                         \n",
      "=============================================================================================\n",
      "                                coef    std err          t      P>|t|      [0.025      0.975]\n",
      "---------------------------------------------------------------------------------------------\n",
      "Intercept                     0.7579      0.183      4.136      0.000       0.399       1.117\n",
      "rating                        0.0289      0.033      0.866      0.387      -0.037       0.094\n",
      "reviewCount                   0.0947      0.001     99.718      0.000       0.093       0.097\n",
      "responseRate                  0.0084      0.000     33.958      0.000       0.008       0.009\n",
      "age_before_listing           -0.0112      0.003     -3.981      0.000      -0.017      -0.006\n",
      "population                  -6.3e-11   7.68e-10     -0.082      0.935   -1.57e-09    1.44e-09\n",
      "listingmonth                  0.0006      0.003      0.223      0.824      -0.005       0.006\n",
      "num_neigh                 -1.489e-05   2.79e-05     -0.533      0.594   -6.96e-05    3.99e-05\n",
      "np.log(averageDailyPrice)    -0.1735      0.015    -11.347      0.000      -0.204      -0.144\n",
      "==============================================================================\n",
      "Omnibus:                      113.633   Durbin-Watson:                   1.929\n",
      "Prob(Omnibus):                  0.000   Jarque-Bera (JB):              120.937\n",
      "Skew:                          -0.440   Prob(JB):                     5.48e-27\n",
      "Kurtosis:                       2.773   Cond. No.                     4.78e+08\n",
      "==============================================================================\n",
      "\n",
      "Warnings:\n",
      "[1] Standard Errors assume that the covariance matrix of the errors is correctly specified.\n",
      "[2] The condition number is large, 4.78e+08. This might indicate that there are\n",
      "strong multicollinearity or other numerical problems.\n"
     ]
    }
   ],
   "source": [
    "### Class 3 - Spacious\n",
    "class3=Regress_X3[Regress_X3['Predict']==2]\n",
    "\n",
    "X_3=class3.drop(['Predict'], axis=1)\n",
    "model3 = smf.ols('np.log(renterTripsTaken+1) ~ rating + reviewCount + responseRate + age_before_listing + population + listingmonth + num_neigh + np.log(averageDailyPrice)', data=X_3).fit()\n",
    "print(model3.summary())"
   ]
  },
  {
   "cell_type": "code",
   "execution_count": 289,
   "metadata": {
    "colab": {
     "base_uri": "https://localhost:8080/",
     "height": 413
    },
    "id": "yejF5eiHGy7I",
    "outputId": "748fd07e-f92d-416d-ff48-5e45be6bee43"
   },
   "outputs": [
    {
     "name": "stderr",
     "output_type": "stream",
     "text": [
      "<ipython-input-289-296a891f173a>:5: SettingWithCopyWarning: \n",
      "A value is trying to be set on a copy of a slice from a DataFrame.\n",
      "Try using .loc[row_indexer,col_indexer] = value instead\n",
      "\n",
      "See the caveats in the documentation: https://pandas.pydata.org/pandas-docs/stable/user_guide/indexing.html#returning-a-view-versus-a-copy\n",
      "  class3['renterTripsTaken']= np.exp(model3.params[0] +  model3.params[1] * 5 + model3.params[2] * 10 +  model3.params[3] * 100 +  model3.params[4]*1\n"
     ]
    },
    {
     "data": {
      "text/plain": [
       "Text(0, 0.5, 'Number of Trips')"
      ]
     },
     "execution_count": 289,
     "metadata": {},
     "output_type": "execute_result"
    },
    {
     "data": {
      "image/png": "[encoded data removed]",
      "text/plain": [
       "<Figure size 432x288 with 1 Axes>"
      ]
     },
     "metadata": {},
     "output_type": "display_data"
    }
   ],
   "source": [
    "# Class 3 demand curve\n",
    "class3['renterTripsTaken']= np.exp(model3.params[0] +  model3.params[1] * 5 + model3.params[2] * 10 +  model3.params[3] * 100 +  model3.params[4]*1\n",
    "    + model3.params[5] * 1424393 + model3.params[6]* 5 + model3.params[7]* 10 + model3.params[-1] * np.log(class3['averageDailyPrice']))\n",
    "plt.scatter(class3['averageDailyPrice'], class3['renterTripsTaken'])\n",
    "plt.xlabel(\"AaverageDailyPrice\")\n",
    "plt.ylabel(\"Number of Trips\")"
   ]
  },
  {
   "cell_type": "code",
   "execution_count": 286,
   "metadata": {},
   "outputs": [],
   "source": [
    "# Revenume function for class 3\n",
    "def revenue_example(price):\n",
    "    # Demand * log(price)  \n",
    "    return np.exp(model3.params[0] +  model3.params[1] * 5 + model3.params[2] * 10 +  model3.params[3] * 100 + \n",
    "                                   model3.params[4]*1 + model3.params[5] * 1424393 + model3.params[6]* 5 + \n",
    "                                   model3.params[7]* 10 + model3.params[-1] * np.log(price))* np.log(price) * -1\n",
    "\n",
    "from scipy.optimize import minimize_scalar\n",
    "max_x = minimize_scalar(revenue_example, bounds=[min(class3['averageDailyPrice']),max(class3['averageDailyPrice'])],method='bounded')"
   ]
  },
  {
   "cell_type": "code",
   "execution_count": 287,
   "metadata": {},
   "outputs": [
    {
     "data": {
      "text/plain": [
       "     fun: -30.89555537278589\n",
       " message: 'Solution found.'\n",
       "    nfev: 13\n",
       "  status: 0\n",
       " success: True\n",
       "       x: 318.05811194985574"
      ]
     },
     "execution_count": 287,
     "metadata": {},
     "output_type": "execute_result"
    }
   ],
   "source": [
    "max_x"
   ]
  },
  {
   "cell_type": "code",
   "execution_count": 288,
   "metadata": {},
   "outputs": [
    {
     "data": {
      "text/plain": [
       "Text(0, 0.5, 'Revenue')"
      ]
     },
     "execution_count": 288,
     "metadata": {},
     "output_type": "execute_result"
    },
    {
     "data": {
      "image/png": "[encoded data removed]",
      "text/plain": [
       "<Figure size 432x288 with 1 Axes>"
      ]
     },
     "metadata": {},
     "output_type": "display_data"
    }
   ],
   "source": [
    "revenue_list = list()\n",
    "for price in  class3['averageDailyPrice']:\n",
    "    revenue_list.append(revenue_example(price)*-1)\n",
    "plt.scatter(class3['averageDailyPrice'], revenue_list)\n",
    "plt.xlabel(\"AverageDailyPrice\")\n",
    "plt.ylabel(\"Revenue\")"
   ]
  }
 ],
 "metadata": {
  "colab": {
   "collapsed_sections": [],
   "name": "Turo modeling.ipynb",
   "provenance": []
  },
  "kernelspec": {
   "display_name": "Python 3",
   "language": "python",
   "name": "python3"
  },
  "language_info": {
   "codemirror_mode": {
    "name": "ipython",
    "version": 3
   },
   "file_extension": ".py",
   "mimetype": "text/x-python",
   "name": "python",
   "nbconvert_exporter": "python",
   "pygments_lexer": "ipython3",
   "version": "3.8.3"
  }
 },
 "nbformat": 4,
 "nbformat_minor": 5
}
